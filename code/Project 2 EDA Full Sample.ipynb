{
 "cells": [
  {
   "cell_type": "code",
   "execution_count": 181,
   "metadata": {
    "collapsed": true
   },
   "outputs": [],
   "source": [
    "import numpy as np\n",
    "import scipy.stats as stats\n",
    "import seaborn as sns\n",
    "import matplotlib.pyplot as plt\n",
    "import pandas as pd\n",
    "\n",
    "from sklearn.linear_model import LinearRegression\n",
    "from sklearn.model_selection import train_test_split\n",
    "sns.set_style('whitegrid')\n",
    "\n",
    "\n",
    "from sklearn import datasets, linear_model\n",
    "from sklearn.metrics import mean_squared_error\n",
    "\n",
    "from sklearn.model_selection import KFold, cross_val_score, cross_val_predict\n",
    "from sklearn import metrics\n",
    "from sklearn.model_selection import train_test_split\n",
    "\n",
    "\n",
    "import seaborn as sns\n",
    "import matplotlib.pyplot as plt\n",
    "\n",
    "%config InlineBackend.figure_format = 'retina'\n",
    "%matplotlib inline"
   ]
  },
  {
   "cell_type": "markdown",
   "metadata": {},
   "source": [
    "# Load in the data and do some basic EDA/Cleaning"
   ]
  },
  {
   "cell_type": "code",
   "execution_count": 2,
   "metadata": {},
   "outputs": [
    {
     "name": "stderr",
     "output_type": "stream",
     "text": [
      "/Users/christophermarker/anaconda3/lib/python3.6/site-packages/IPython/core/interactiveshell.py:2698: DtypeWarning: Columns (6) have mixed types. Specify dtype option on import or set low_memory=False.\n",
      "  interactivity=interactivity, compiler=compiler, result=result)\n"
     ]
    }
   ],
   "source": [
    "df = pd.read_csv('/Users/christophermarker/Documents/DSI7/Miscellaneous/iowa_liquor_sales_proj_2.csv')"
   ]
  },
  {
   "cell_type": "code",
   "execution_count": 3,
   "metadata": {
    "collapsed": true
   },
   "outputs": [],
   "source": [
    "df[\"Date\"] = pd.to_datetime(df[\"Date\"],infer_datetime_format=True)"
   ]
  },
  {
   "cell_type": "code",
   "execution_count": 461,
   "metadata": {},
   "outputs": [
    {
     "data": {
      "text/plain": [
       "Timestamp('2015-01-05 00:00:00')"
      ]
     },
     "execution_count": 461,
     "metadata": {},
     "output_type": "execute_result"
    }
   ],
   "source": [
    "df.Date.min()"
   ]
  },
  {
   "cell_type": "code",
   "execution_count": 462,
   "metadata": {},
   "outputs": [
    {
     "data": {
      "text/plain": [
       "Timestamp('2016-03-31 00:00:00')"
      ]
     },
     "execution_count": 462,
     "metadata": {},
     "output_type": "execute_result"
    }
   ],
   "source": [
    "df.Date.max()"
   ]
  },
  {
   "cell_type": "code",
   "execution_count": 84,
   "metadata": {},
   "outputs": [
    {
     "data": {
      "text/html": [
       "<div>\n",
       "<style>\n",
       "    .dataframe thead tr:only-child th {\n",
       "        text-align: right;\n",
       "    }\n",
       "\n",
       "    .dataframe thead th {\n",
       "        text-align: left;\n",
       "    }\n",
       "\n",
       "    .dataframe tbody tr th {\n",
       "        vertical-align: top;\n",
       "    }\n",
       "</style>\n",
       "<table border=\"1\" class=\"dataframe\">\n",
       "  <thead>\n",
       "    <tr style=\"text-align: right;\">\n",
       "      <th></th>\n",
       "      <th>Invoice/Item Number</th>\n",
       "      <th>Date</th>\n",
       "      <th>Store Number</th>\n",
       "      <th>Store Name</th>\n",
       "      <th>Address</th>\n",
       "      <th>City</th>\n",
       "      <th>Zip Code</th>\n",
       "      <th>Store Location</th>\n",
       "      <th>Category</th>\n",
       "      <th>Category Name</th>\n",
       "      <th>...</th>\n",
       "      <th>Pack</th>\n",
       "      <th>Bottle Volume (ml)</th>\n",
       "      <th>State Bottle Cost</th>\n",
       "      <th>State Bottle Retail</th>\n",
       "      <th>Bottles Sold</th>\n",
       "      <th>Sale (Dollars)</th>\n",
       "      <th>Volume Sold (Liters)</th>\n",
       "      <th>Volume Sold (Gallons)</th>\n",
       "      <th>County</th>\n",
       "      <th>County Number</th>\n",
       "    </tr>\n",
       "  </thead>\n",
       "  <tbody>\n",
       "    <tr>\n",
       "      <th>0</th>\n",
       "      <td>S29198800001</td>\n",
       "      <td>2015-11-20</td>\n",
       "      <td>2191</td>\n",
       "      <td>Keokuk Spirits</td>\n",
       "      <td>1013 MAIN</td>\n",
       "      <td>KEOKUK</td>\n",
       "      <td>52632</td>\n",
       "      <td>1013 MAIN\\nKEOKUK 52632\\n(40.39978, -91.387531)</td>\n",
       "      <td>NaN</td>\n",
       "      <td>NaN</td>\n",
       "      <td>...</td>\n",
       "      <td>6</td>\n",
       "      <td>750</td>\n",
       "      <td>18.09</td>\n",
       "      <td>27.14</td>\n",
       "      <td>6</td>\n",
       "      <td>162.84</td>\n",
       "      <td>4.50</td>\n",
       "      <td>1.19</td>\n",
       "      <td>Lee</td>\n",
       "      <td>56</td>\n",
       "    </tr>\n",
       "    <tr>\n",
       "      <th>1</th>\n",
       "      <td>S29195400002</td>\n",
       "      <td>2015-11-21</td>\n",
       "      <td>2205</td>\n",
       "      <td>Ding's Honk And Holler</td>\n",
       "      <td>900 E WASHINGTON</td>\n",
       "      <td>CLARINDA</td>\n",
       "      <td>51632</td>\n",
       "      <td>900 E WASHINGTON\\nCLARINDA 51632\\n(40.739238, ...</td>\n",
       "      <td>NaN</td>\n",
       "      <td>NaN</td>\n",
       "      <td>...</td>\n",
       "      <td>6</td>\n",
       "      <td>750</td>\n",
       "      <td>18.09</td>\n",
       "      <td>27.14</td>\n",
       "      <td>12</td>\n",
       "      <td>325.68</td>\n",
       "      <td>9.00</td>\n",
       "      <td>2.38</td>\n",
       "      <td>Page</td>\n",
       "      <td>73</td>\n",
       "    </tr>\n",
       "    <tr>\n",
       "      <th>2</th>\n",
       "      <td>S29050300001</td>\n",
       "      <td>2015-11-16</td>\n",
       "      <td>3549</td>\n",
       "      <td>Quicker Liquor Store</td>\n",
       "      <td>1414 48TH ST</td>\n",
       "      <td>FORT MADISON</td>\n",
       "      <td>52627</td>\n",
       "      <td>1414 48TH ST\\nFORT MADISON 52627\\n(40.624226, ...</td>\n",
       "      <td>NaN</td>\n",
       "      <td>NaN</td>\n",
       "      <td>...</td>\n",
       "      <td>20</td>\n",
       "      <td>150</td>\n",
       "      <td>6.40</td>\n",
       "      <td>9.60</td>\n",
       "      <td>2</td>\n",
       "      <td>19.20</td>\n",
       "      <td>0.30</td>\n",
       "      <td>0.08</td>\n",
       "      <td>Lee</td>\n",
       "      <td>56</td>\n",
       "    </tr>\n",
       "    <tr>\n",
       "      <th>3</th>\n",
       "      <td>S28867700001</td>\n",
       "      <td>2015-11-04</td>\n",
       "      <td>2513</td>\n",
       "      <td>Hy-Vee Food Store #2 / Iowa City</td>\n",
       "      <td>812  S 1ST AVE</td>\n",
       "      <td>IOWA CITY</td>\n",
       "      <td>52240</td>\n",
       "      <td>812 S 1ST AVE\\nIOWA CITY 52240\\n</td>\n",
       "      <td>NaN</td>\n",
       "      <td>NaN</td>\n",
       "      <td>...</td>\n",
       "      <td>3</td>\n",
       "      <td>1750</td>\n",
       "      <td>35.55</td>\n",
       "      <td>53.34</td>\n",
       "      <td>3</td>\n",
       "      <td>160.02</td>\n",
       "      <td>5.25</td>\n",
       "      <td>1.39</td>\n",
       "      <td>Johnson</td>\n",
       "      <td>52</td>\n",
       "    </tr>\n",
       "    <tr>\n",
       "      <th>4</th>\n",
       "      <td>S29050800001</td>\n",
       "      <td>2015-11-17</td>\n",
       "      <td>3942</td>\n",
       "      <td>Twin Town Liquor</td>\n",
       "      <td>104 HIGHWAY 30 WEST</td>\n",
       "      <td>TOLEDO</td>\n",
       "      <td>52342</td>\n",
       "      <td>104 HIGHWAY 30 WEST\\nTOLEDO 52342\\n(41.985887,...</td>\n",
       "      <td>NaN</td>\n",
       "      <td>NaN</td>\n",
       "      <td>...</td>\n",
       "      <td>20</td>\n",
       "      <td>150</td>\n",
       "      <td>6.40</td>\n",
       "      <td>9.60</td>\n",
       "      <td>2</td>\n",
       "      <td>19.20</td>\n",
       "      <td>0.30</td>\n",
       "      <td>0.08</td>\n",
       "      <td>Tama</td>\n",
       "      <td>86</td>\n",
       "    </tr>\n",
       "  </tbody>\n",
       "</table>\n",
       "<p>5 rows × 24 columns</p>\n",
       "</div>"
      ],
      "text/plain": [
       "  Invoice/Item Number       Date  Store Number  \\\n",
       "0        S29198800001 2015-11-20          2191   \n",
       "1        S29195400002 2015-11-21          2205   \n",
       "2        S29050300001 2015-11-16          3549   \n",
       "3        S28867700001 2015-11-04          2513   \n",
       "4        S29050800001 2015-11-17          3942   \n",
       "\n",
       "                         Store Name              Address          City  \\\n",
       "0                    Keokuk Spirits            1013 MAIN        KEOKUK   \n",
       "1            Ding's Honk And Holler     900 E WASHINGTON      CLARINDA   \n",
       "2              Quicker Liquor Store         1414 48TH ST  FORT MADISON   \n",
       "3  Hy-Vee Food Store #2 / Iowa City       812  S 1ST AVE     IOWA CITY   \n",
       "4                  Twin Town Liquor  104 HIGHWAY 30 WEST        TOLEDO   \n",
       "\n",
       "  Zip Code                                     Store Location  Category  \\\n",
       "0    52632    1013 MAIN\\nKEOKUK 52632\\n(40.39978, -91.387531)       NaN   \n",
       "1    51632  900 E WASHINGTON\\nCLARINDA 51632\\n(40.739238, ...       NaN   \n",
       "2    52627  1414 48TH ST\\nFORT MADISON 52627\\n(40.624226, ...       NaN   \n",
       "3    52240                   812 S 1ST AVE\\nIOWA CITY 52240\\n       NaN   \n",
       "4    52342  104 HIGHWAY 30 WEST\\nTOLEDO 52342\\n(41.985887,...       NaN   \n",
       "\n",
       "  Category Name      ...        Pack Bottle Volume (ml)  State Bottle Cost  \\\n",
       "0           NaN      ...           6                750              18.09   \n",
       "1           NaN      ...           6                750              18.09   \n",
       "2           NaN      ...          20                150               6.40   \n",
       "3           NaN      ...           3               1750              35.55   \n",
       "4           NaN      ...          20                150               6.40   \n",
       "\n",
       "  State Bottle Retail  Bottles Sold  Sale (Dollars)  Volume Sold (Liters)  \\\n",
       "0               27.14             6          162.84                  4.50   \n",
       "1               27.14            12          325.68                  9.00   \n",
       "2                9.60             2           19.20                  0.30   \n",
       "3               53.34             3          160.02                  5.25   \n",
       "4                9.60             2           19.20                  0.30   \n",
       "\n",
       "   Volume Sold (Gallons)   County  County Number  \n",
       "0                   1.19      Lee             56  \n",
       "1                   2.38     Page             73  \n",
       "2                   0.08      Lee             56  \n",
       "3                   1.39  Johnson             52  \n",
       "4                   0.08     Tama             86  \n",
       "\n",
       "[5 rows x 24 columns]"
      ]
     },
     "execution_count": 84,
     "metadata": {},
     "output_type": "execute_result"
    }
   ],
   "source": [
    "df.head()"
   ]
  },
  {
   "cell_type": "code",
   "execution_count": 4,
   "metadata": {
    "collapsed": true
   },
   "outputs": [],
   "source": [
    "df['Sale (Dollars)'] = df['Sale (Dollars)'].str.replace(',', '')\n",
    "df['Sale (Dollars)'] = df['Sale (Dollars)'].str.replace('$', '')\n",
    "df['Sale (Dollars)'] = df['Sale (Dollars)'].astype(float)\n",
    "\n",
    "df['State Bottle Cost'] = df['State Bottle Cost'].str.replace(',', '')\n",
    "df['State Bottle Cost'] = df['State Bottle Cost'].str.replace('$', '')\n",
    "df['State Bottle Cost'] = df['State Bottle Cost'].astype(float)\n",
    "\n",
    "df['State Bottle Retail'] = df['State Bottle Retail'].str.replace(',', '')\n",
    "df['State Bottle Retail'] = df['State Bottle Retail'].str.replace('$', '')\n",
    "df['State Bottle Retail'] = df['State Bottle Retail'].astype(float)\n",
    "\n",
    "# https://stackoverflow.com/questions/38516481/trying-to-remove-commas-and-dollars-signs-with-pandas-in-python"
   ]
  },
  {
   "cell_type": "code",
   "execution_count": 5,
   "metadata": {
    "collapsed": true
   },
   "outputs": [],
   "source": [
    "df['County'].replace({\"O'Brien\":'OBrien'}, inplace=True)"
   ]
  },
  {
   "cell_type": "code",
   "execution_count": 6,
   "metadata": {
    "collapsed": true
   },
   "outputs": [],
   "source": [
    "df['Zip Code'].replace({'712-2':'51529'}, inplace=True)"
   ]
  },
  {
   "cell_type": "code",
   "execution_count": 7,
   "metadata": {
    "collapsed": true
   },
   "outputs": [],
   "source": [
    "df.loc[(df['Store Number'] == 3591) & (df['County'] == 'Webster'), 'County'] = 'Hardin'"
   ]
  },
  {
   "cell_type": "code",
   "execution_count": 8,
   "metadata": {},
   "outputs": [
    {
     "data": {
      "text/plain": [
       "Invoice/Item Number          0\n",
       "Date                         0\n",
       "Store Number                 0\n",
       "Store Name                   0\n",
       "Address                      0\n",
       "City                         0\n",
       "Zip Code                     0\n",
       "Store Location               0\n",
       "County Number            10913\n",
       "County                   10913\n",
       "Category                   779\n",
       "Category Name             6109\n",
       "Vendor Number                0\n",
       "Vendor Name                  0\n",
       "Item Number                  0\n",
       "Item Description             0\n",
       "Pack                         0\n",
       "Bottle Volume (ml)           0\n",
       "State Bottle Cost            0\n",
       "State Bottle Retail          0\n",
       "Bottles Sold                 0\n",
       "Sale (Dollars)               0\n",
       "Volume Sold (Liters)         0\n",
       "Volume Sold (Gallons)        0\n",
       "dtype: int64"
      ]
     },
     "execution_count": 8,
     "metadata": {},
     "output_type": "execute_result"
    }
   ],
   "source": [
    "df.isnull().sum()"
   ]
  },
  {
   "cell_type": "code",
   "execution_count": 9,
   "metadata": {},
   "outputs": [
    {
     "data": {
      "text/plain": [
       "Invoice/Item Number      2709552\n",
       "Date                         284\n",
       "Store Number                1403\n",
       "Store Name                  1397\n",
       "Address                     1398\n",
       "City                         386\n",
       "Zip Code                     743\n",
       "Store Location              1745\n",
       "County Number                 99\n",
       "County                        99\n",
       "Category                      89\n",
       "Category Name                 73\n",
       "Vendor Number                159\n",
       "Vendor Name                  160\n",
       "Item Number                 3865\n",
       "Item Description            3029\n",
       "Pack                          19\n",
       "Bottle Volume (ml)            34\n",
       "State Bottle Cost           1471\n",
       "State Bottle Retail         1525\n",
       "Bottles Sold                 275\n",
       "Sale (Dollars)             11456\n",
       "Volume Sold (Liters)         544\n",
       "Volume Sold (Gallons)        538\n",
       "dtype: int64"
      ]
     },
     "execution_count": 9,
     "metadata": {},
     "output_type": "execute_result"
    }
   ],
   "source": [
    "df.apply(pd.Series.nunique)"
   ]
  },
  {
   "cell_type": "code",
   "execution_count": 10,
   "metadata": {},
   "outputs": [
    {
     "data": {
      "text/plain": [
       "Invoice/Item Number              object\n",
       "Date                     datetime64[ns]\n",
       "Store Number                      int64\n",
       "Store Name                       object\n",
       "Address                          object\n",
       "City                             object\n",
       "Zip Code                         object\n",
       "Store Location                   object\n",
       "County Number                   float64\n",
       "County                           object\n",
       "Category                        float64\n",
       "Category Name                    object\n",
       "Vendor Number                     int64\n",
       "Vendor Name                      object\n",
       "Item Number                       int64\n",
       "Item Description                 object\n",
       "Pack                              int64\n",
       "Bottle Volume (ml)                int64\n",
       "State Bottle Cost               float64\n",
       "State Bottle Retail             float64\n",
       "Bottles Sold                      int64\n",
       "Sale (Dollars)                  float64\n",
       "Volume Sold (Liters)            float64\n",
       "Volume Sold (Gallons)           float64\n",
       "dtype: object"
      ]
     },
     "execution_count": 10,
     "metadata": {},
     "output_type": "execute_result"
    }
   ],
   "source": [
    "df.dtypes"
   ]
  },
  {
   "cell_type": "code",
   "execution_count": 11,
   "metadata": {},
   "outputs": [
    {
     "data": {
      "text/html": [
       "<div>\n",
       "<style>\n",
       "    .dataframe thead tr:only-child th {\n",
       "        text-align: right;\n",
       "    }\n",
       "\n",
       "    .dataframe thead th {\n",
       "        text-align: left;\n",
       "    }\n",
       "\n",
       "    .dataframe tbody tr th {\n",
       "        vertical-align: top;\n",
       "    }\n",
       "</style>\n",
       "<table border=\"1\" class=\"dataframe\">\n",
       "  <thead>\n",
       "    <tr style=\"text-align: right;\">\n",
       "      <th></th>\n",
       "      <th>Invoice/Item Number</th>\n",
       "      <th>Date</th>\n",
       "      <th>Store Number</th>\n",
       "      <th>Store Name</th>\n",
       "      <th>Address</th>\n",
       "      <th>City</th>\n",
       "      <th>Zip Code</th>\n",
       "      <th>Store Location</th>\n",
       "      <th>County Number</th>\n",
       "      <th>County</th>\n",
       "      <th>...</th>\n",
       "      <th>Item Number</th>\n",
       "      <th>Item Description</th>\n",
       "      <th>Pack</th>\n",
       "      <th>Bottle Volume (ml)</th>\n",
       "      <th>State Bottle Cost</th>\n",
       "      <th>State Bottle Retail</th>\n",
       "      <th>Bottles Sold</th>\n",
       "      <th>Sale (Dollars)</th>\n",
       "      <th>Volume Sold (Liters)</th>\n",
       "      <th>Volume Sold (Gallons)</th>\n",
       "    </tr>\n",
       "  </thead>\n",
       "  <tbody>\n",
       "    <tr>\n",
       "      <th>0</th>\n",
       "      <td>S29198800001</td>\n",
       "      <td>2015-11-20</td>\n",
       "      <td>2191</td>\n",
       "      <td>Keokuk Spirits</td>\n",
       "      <td>1013 MAIN</td>\n",
       "      <td>KEOKUK</td>\n",
       "      <td>52632</td>\n",
       "      <td>1013 MAIN\\nKEOKUK 52632\\n(40.39978, -91.387531)</td>\n",
       "      <td>56.0</td>\n",
       "      <td>Lee</td>\n",
       "      <td>...</td>\n",
       "      <td>297</td>\n",
       "      <td>Templeton Rye w/Flask</td>\n",
       "      <td>6</td>\n",
       "      <td>750</td>\n",
       "      <td>18.09</td>\n",
       "      <td>27.14</td>\n",
       "      <td>6</td>\n",
       "      <td>162.84</td>\n",
       "      <td>4.50</td>\n",
       "      <td>1.19</td>\n",
       "    </tr>\n",
       "    <tr>\n",
       "      <th>1</th>\n",
       "      <td>S29195400002</td>\n",
       "      <td>2015-11-21</td>\n",
       "      <td>2205</td>\n",
       "      <td>Ding's Honk And Holler</td>\n",
       "      <td>900 E WASHINGTON</td>\n",
       "      <td>CLARINDA</td>\n",
       "      <td>51632</td>\n",
       "      <td>900 E WASHINGTON\\nCLARINDA 51632\\n(40.739238, ...</td>\n",
       "      <td>73.0</td>\n",
       "      <td>Page</td>\n",
       "      <td>...</td>\n",
       "      <td>297</td>\n",
       "      <td>Templeton Rye w/Flask</td>\n",
       "      <td>6</td>\n",
       "      <td>750</td>\n",
       "      <td>18.09</td>\n",
       "      <td>27.14</td>\n",
       "      <td>12</td>\n",
       "      <td>325.68</td>\n",
       "      <td>9.00</td>\n",
       "      <td>2.38</td>\n",
       "    </tr>\n",
       "    <tr>\n",
       "      <th>2</th>\n",
       "      <td>S29050300001</td>\n",
       "      <td>2015-11-16</td>\n",
       "      <td>3549</td>\n",
       "      <td>Quicker Liquor Store</td>\n",
       "      <td>1414 48TH ST</td>\n",
       "      <td>FORT MADISON</td>\n",
       "      <td>52627</td>\n",
       "      <td>1414 48TH ST\\nFORT MADISON 52627\\n(40.624226, ...</td>\n",
       "      <td>56.0</td>\n",
       "      <td>Lee</td>\n",
       "      <td>...</td>\n",
       "      <td>249</td>\n",
       "      <td>Disaronno Amaretto Cavalli Mignon 3-50ml Pack</td>\n",
       "      <td>20</td>\n",
       "      <td>150</td>\n",
       "      <td>6.40</td>\n",
       "      <td>9.60</td>\n",
       "      <td>2</td>\n",
       "      <td>19.20</td>\n",
       "      <td>0.30</td>\n",
       "      <td>0.08</td>\n",
       "    </tr>\n",
       "    <tr>\n",
       "      <th>3</th>\n",
       "      <td>S28867700001</td>\n",
       "      <td>2015-11-04</td>\n",
       "      <td>2513</td>\n",
       "      <td>Hy-Vee Food Store #2 / Iowa City</td>\n",
       "      <td>812  S 1ST AVE</td>\n",
       "      <td>IOWA CITY</td>\n",
       "      <td>52240</td>\n",
       "      <td>812 S 1ST AVE\\nIOWA CITY 52240\\n</td>\n",
       "      <td>52.0</td>\n",
       "      <td>Johnson</td>\n",
       "      <td>...</td>\n",
       "      <td>237</td>\n",
       "      <td>Knob Creek w/ Crystal Decanter</td>\n",
       "      <td>3</td>\n",
       "      <td>1750</td>\n",
       "      <td>35.55</td>\n",
       "      <td>53.34</td>\n",
       "      <td>3</td>\n",
       "      <td>160.02</td>\n",
       "      <td>5.25</td>\n",
       "      <td>1.39</td>\n",
       "    </tr>\n",
       "    <tr>\n",
       "      <th>4</th>\n",
       "      <td>S29050800001</td>\n",
       "      <td>2015-11-17</td>\n",
       "      <td>3942</td>\n",
       "      <td>Twin Town Liquor</td>\n",
       "      <td>104 HIGHWAY 30 WEST</td>\n",
       "      <td>TOLEDO</td>\n",
       "      <td>52342</td>\n",
       "      <td>104 HIGHWAY 30 WEST\\nTOLEDO 52342\\n(41.985887,...</td>\n",
       "      <td>86.0</td>\n",
       "      <td>Tama</td>\n",
       "      <td>...</td>\n",
       "      <td>249</td>\n",
       "      <td>Disaronno Amaretto Cavalli Mignon 3-50ml Pack</td>\n",
       "      <td>20</td>\n",
       "      <td>150</td>\n",
       "      <td>6.40</td>\n",
       "      <td>9.60</td>\n",
       "      <td>2</td>\n",
       "      <td>19.20</td>\n",
       "      <td>0.30</td>\n",
       "      <td>0.08</td>\n",
       "    </tr>\n",
       "  </tbody>\n",
       "</table>\n",
       "<p>5 rows × 24 columns</p>\n",
       "</div>"
      ],
      "text/plain": [
       "  Invoice/Item Number       Date  Store Number  \\\n",
       "0        S29198800001 2015-11-20          2191   \n",
       "1        S29195400002 2015-11-21          2205   \n",
       "2        S29050300001 2015-11-16          3549   \n",
       "3        S28867700001 2015-11-04          2513   \n",
       "4        S29050800001 2015-11-17          3942   \n",
       "\n",
       "                         Store Name              Address          City  \\\n",
       "0                    Keokuk Spirits            1013 MAIN        KEOKUK   \n",
       "1            Ding's Honk And Holler     900 E WASHINGTON      CLARINDA   \n",
       "2              Quicker Liquor Store         1414 48TH ST  FORT MADISON   \n",
       "3  Hy-Vee Food Store #2 / Iowa City       812  S 1ST AVE     IOWA CITY   \n",
       "4                  Twin Town Liquor  104 HIGHWAY 30 WEST        TOLEDO   \n",
       "\n",
       "  Zip Code                                     Store Location  County Number  \\\n",
       "0    52632    1013 MAIN\\nKEOKUK 52632\\n(40.39978, -91.387531)           56.0   \n",
       "1    51632  900 E WASHINGTON\\nCLARINDA 51632\\n(40.739238, ...           73.0   \n",
       "2    52627  1414 48TH ST\\nFORT MADISON 52627\\n(40.624226, ...           56.0   \n",
       "3    52240                   812 S 1ST AVE\\nIOWA CITY 52240\\n           52.0   \n",
       "4    52342  104 HIGHWAY 30 WEST\\nTOLEDO 52342\\n(41.985887,...           86.0   \n",
       "\n",
       "    County          ...            Item Number  \\\n",
       "0      Lee          ...                    297   \n",
       "1     Page          ...                    297   \n",
       "2      Lee          ...                    249   \n",
       "3  Johnson          ...                    237   \n",
       "4     Tama          ...                    249   \n",
       "\n",
       "                                Item Description  Pack Bottle Volume (ml)  \\\n",
       "0                          Templeton Rye w/Flask     6                750   \n",
       "1                          Templeton Rye w/Flask     6                750   \n",
       "2  Disaronno Amaretto Cavalli Mignon 3-50ml Pack    20                150   \n",
       "3                 Knob Creek w/ Crystal Decanter     3               1750   \n",
       "4  Disaronno Amaretto Cavalli Mignon 3-50ml Pack    20                150   \n",
       "\n",
       "   State Bottle Cost State Bottle Retail  Bottles Sold  Sale (Dollars)  \\\n",
       "0              18.09               27.14             6          162.84   \n",
       "1              18.09               27.14            12          325.68   \n",
       "2               6.40                9.60             2           19.20   \n",
       "3              35.55               53.34             3          160.02   \n",
       "4               6.40                9.60             2           19.20   \n",
       "\n",
       "   Volume Sold (Liters)  Volume Sold (Gallons)  \n",
       "0                  4.50                   1.19  \n",
       "1                  9.00                   2.38  \n",
       "2                  0.30                   0.08  \n",
       "3                  5.25                   1.39  \n",
       "4                  0.30                   0.08  \n",
       "\n",
       "[5 rows x 24 columns]"
      ]
     },
     "execution_count": 11,
     "metadata": {},
     "output_type": "execute_result"
    }
   ],
   "source": [
    "df.head()"
   ]
  },
  {
   "cell_type": "markdown",
   "metadata": {},
   "source": [
    "# Process to get rid of null values in county and county number columns"
   ]
  },
  {
   "cell_type": "code",
   "execution_count": 12,
   "metadata": {
    "collapsed": true
   },
   "outputs": [],
   "source": [
    "zc = pd.read_csv('/Users/christophermarker/Documents/DSI7/Miscellaneous/us_postal_codes.csv')"
   ]
  },
  {
   "cell_type": "code",
   "execution_count": 13,
   "metadata": {
    "collapsed": true
   },
   "outputs": [],
   "source": [
    "zc['County'].replace({\"O'Brien\":'OBrien'}, inplace=True)"
   ]
  },
  {
   "cell_type": "code",
   "execution_count": 14,
   "metadata": {
    "collapsed": true,
    "scrolled": true
   },
   "outputs": [],
   "source": [
    "zc = zc.loc[zc['State'] == 'Iowa']"
   ]
  },
  {
   "cell_type": "code",
   "execution_count": 15,
   "metadata": {
    "collapsed": true
   },
   "outputs": [],
   "source": [
    "zc['Zip Code'] = zc['Zip Code'].astype(str)"
   ]
  },
  {
   "cell_type": "code",
   "execution_count": 16,
   "metadata": {
    "collapsed": true
   },
   "outputs": [],
   "source": [
    "df['Zip Code'] = df['Zip Code'].astype(str)"
   ]
  },
  {
   "cell_type": "code",
   "execution_count": 17,
   "metadata": {
    "collapsed": true
   },
   "outputs": [],
   "source": [
    "list_1 = list(zc['Zip Code'])\n",
    "list_2 = list(zc['County'])\n",
    "zip_county = dict(zip(list_1, list_2)) "
   ]
  },
  {
   "cell_type": "code",
   "execution_count": 18,
   "metadata": {
    "collapsed": true
   },
   "outputs": [],
   "source": [
    "df[\"County5\"] = df[\"County\"]"
   ]
  },
  {
   "cell_type": "code",
   "execution_count": 19,
   "metadata": {
    "collapsed": true
   },
   "outputs": [],
   "source": [
    "df.County5.fillna(df[\"Zip Code\"], inplace=True)"
   ]
  },
  {
   "cell_type": "code",
   "execution_count": 20,
   "metadata": {
    "collapsed": true
   },
   "outputs": [],
   "source": [
    "df['County5'].replace(zip_county, inplace=True)"
   ]
  },
  {
   "cell_type": "code",
   "execution_count": 21,
   "metadata": {
    "collapsed": true
   },
   "outputs": [],
   "source": [
    "df.drop(['County'], axis=1, inplace=True)"
   ]
  },
  {
   "cell_type": "code",
   "execution_count": 22,
   "metadata": {
    "collapsed": true
   },
   "outputs": [],
   "source": [
    "df.rename(index=str, columns={\"County5\": \"County\"}, inplace=True)"
   ]
  },
  {
   "cell_type": "code",
   "execution_count": 23,
   "metadata": {
    "collapsed": true,
    "scrolled": true
   },
   "outputs": [],
   "source": [
    "# df[\"County4\"] = df[\"Zip Code\"].map(zip_county)\n",
    "\n",
    "# This code maps an entire new series based on correspond keys/vlaues from another series\n",
    "# Ended up using a aslightly different method\n",
    "# df.drop(['County4'], axis=1, inplace=True)"
   ]
  },
  {
   "cell_type": "code",
   "execution_count": 24,
   "metadata": {
    "collapsed": true
   },
   "outputs": [],
   "source": [
    "cn = pd.read_csv('/Users/christophermarker/Documents/DSI7/Miscellaneous/county_numbers.csv')"
   ]
  },
  {
   "cell_type": "code",
   "execution_count": 25,
   "metadata": {
    "collapsed": true
   },
   "outputs": [],
   "source": [
    "cn['County_number'] = cn['County_number'].astype(str)"
   ]
  },
  {
   "cell_type": "code",
   "execution_count": 26,
   "metadata": {
    "collapsed": true
   },
   "outputs": [],
   "source": [
    "list_1b = list(cn['County_name'])\n",
    "list_2b = list(cn['County_number'])\n",
    "county_number = dict(zip(list_1b, list_2b)) "
   ]
  },
  {
   "cell_type": "code",
   "execution_count": 27,
   "metadata": {
    "collapsed": true
   },
   "outputs": [],
   "source": [
    "df[\"County Number5\"] = df[\"County Number\"]"
   ]
  },
  {
   "cell_type": "code",
   "execution_count": 28,
   "metadata": {
    "collapsed": true
   },
   "outputs": [],
   "source": [
    "df[\"County Number5\"].fillna(255, inplace=True)"
   ]
  },
  {
   "cell_type": "code",
   "execution_count": 29,
   "metadata": {
    "collapsed": true
   },
   "outputs": [],
   "source": [
    "df['County Number5'] = df['County Number5'].astype(int)"
   ]
  },
  {
   "cell_type": "code",
   "execution_count": 30,
   "metadata": {
    "collapsed": true
   },
   "outputs": [],
   "source": [
    "df['County Number5'].replace({255:df['County']}, inplace=True)"
   ]
  },
  {
   "cell_type": "code",
   "execution_count": 31,
   "metadata": {
    "collapsed": true
   },
   "outputs": [],
   "source": [
    "df['County Number5'] = df['County Number5'].astype(str)"
   ]
  },
  {
   "cell_type": "code",
   "execution_count": 32,
   "metadata": {
    "collapsed": true
   },
   "outputs": [],
   "source": [
    "df['County Number5'].replace(county_number, inplace=True)"
   ]
  },
  {
   "cell_type": "code",
   "execution_count": 33,
   "metadata": {
    "collapsed": true
   },
   "outputs": [],
   "source": [
    "df['County Number5'] = df['County Number5'].astype(int)"
   ]
  },
  {
   "cell_type": "code",
   "execution_count": 34,
   "metadata": {
    "collapsed": true
   },
   "outputs": [],
   "source": [
    "df.drop(['County Number'], axis=1, inplace=True)"
   ]
  },
  {
   "cell_type": "code",
   "execution_count": 35,
   "metadata": {
    "collapsed": true
   },
   "outputs": [],
   "source": [
    "df.rename(index=str, columns={\"County Number5\": \"County Number\"}, inplace=True)"
   ]
  },
  {
   "cell_type": "markdown",
   "metadata": {},
   "source": [
    "# Get total liquor sales per county"
   ]
  },
  {
   "cell_type": "code",
   "execution_count": 36,
   "metadata": {
    "collapsed": true
   },
   "outputs": [],
   "source": [
    "# cn_list = list(cn['County_name'].values)"
   ]
  },
  {
   "cell_type": "code",
   "execution_count": 37,
   "metadata": {
    "collapsed": true
   },
   "outputs": [],
   "source": [
    "# def total_county_sales(df, cn_list):\n",
    "#     total_sales_list = []\n",
    "#     sof = sum(list(df['Sale (Dollars)'].values))\n",
    "#     total_sales_list.append(sof)\n",
    "#     for c in cn_list:\n",
    "#         soc = sum(list(df[df['County'] == c]['Sale (Dollars)'].values))\n",
    "#         total_sales_list.append(soc)\n",
    "#     return total_sales_list\n",
    "    "
   ]
  },
  {
   "cell_type": "code",
   "execution_count": 38,
   "metadata": {
    "collapsed": true
   },
   "outputs": [],
   "source": [
    "# soc = sum(df[df['County'] == 'Iowa']['Sale (Dollars)'].values)"
   ]
  },
  {
   "cell_type": "code",
   "execution_count": 39,
   "metadata": {
    "collapsed": true
   },
   "outputs": [],
   "source": [
    "# tcs_list = total_county_sales(df, cn_list)"
   ]
  },
  {
   "cell_type": "code",
   "execution_count": 399,
   "metadata": {
    "collapsed": true
   },
   "outputs": [],
   "source": [
    "tcs_list = [df['Sale (Dollars)'].sum()] + list(df.groupby('County')['Sale (Dollars)'].sum()) "
   ]
  },
  {
   "cell_type": "markdown",
   "metadata": {},
   "source": [
    "# Get total number of liquor stores per county"
   ]
  },
  {
   "cell_type": "code",
   "execution_count": 41,
   "metadata": {
    "collapsed": true
   },
   "outputs": [],
   "source": [
    "tls_list = [1403] + list(df.groupby('County')['Store Number'].nunique())"
   ]
  },
  {
   "cell_type": "code",
   "execution_count": 42,
   "metadata": {
    "collapsed": true
   },
   "outputs": [],
   "source": [
    "# w = [i[1] for i in donkey.index]"
   ]
  },
  {
   "cell_type": "code",
   "execution_count": 43,
   "metadata": {
    "collapsed": true
   },
   "outputs": [],
   "source": [
    "# dupes = [x for n, x in enumerate(w) if x in w[:n]]\n",
    "# print(dupes)"
   ]
  },
  {
   "cell_type": "markdown",
   "metadata": {},
   "source": [
    "# Get total population"
   ]
  },
  {
   "cell_type": "code",
   "execution_count": 44,
   "metadata": {
    "collapsed": true
   },
   "outputs": [],
   "source": [
    "cn2 = cn.copy()"
   ]
  },
  {
   "cell_type": "code",
   "execution_count": 45,
   "metadata": {
    "collapsed": true
   },
   "outputs": [],
   "source": [
    "data = []\n",
    " \n",
    "data.insert(0, {'County_number': 0, 'County_name': 'Total Iowa', 'Sq_miles': 55861})\n",
    "\n",
    "cn2 = pd.concat([pd.DataFrame(data), cn2], ignore_index=True)\n"
   ]
  },
  {
   "cell_type": "code",
   "execution_count": 46,
   "metadata": {
    "collapsed": true,
    "scrolled": true
   },
   "outputs": [],
   "source": [
    "# cn2 = cn2.drop(cn2.index[list(range(100, 198))])"
   ]
  },
  {
   "cell_type": "markdown",
   "metadata": {},
   "source": [
    "# Get total number of bottles sold per county and average price per bottle"
   ]
  },
  {
   "cell_type": "code",
   "execution_count": 135,
   "metadata": {
    "collapsed": true
   },
   "outputs": [],
   "source": [
    "tbs_list = [df['Bottles Sold'].sum()] + list(df.groupby('County')['Bottles Sold'].sum()) "
   ]
  },
  {
   "cell_type": "code",
   "execution_count": 155,
   "metadata": {
    "collapsed": true
   },
   "outputs": [],
   "source": [
    "abp_list = [df['State Bottle Retail'].mean()] + list(df.groupby('County')['State Bottle Retail'].mean())"
   ]
  },
  {
   "cell_type": "markdown",
   "metadata": {},
   "source": [
    "# Read in USDA data, combine multiple excel sheets into one pandas DF and then attach totals from liquor data\n",
    "\n",
    "Credit to Austin Lasseter for much of this section -- I used some code that he slacked out to us to read in the usda tables and merge them"
   ]
  },
  {
   "cell_type": "code",
   "execution_count": 47,
   "metadata": {
    "collapsed": true
   },
   "outputs": [],
   "source": [
    "employment=pd.read_excel('/Users/christophermarker/Documents/DSI7/Miscellaneous/Unemployment.xls', \n",
    "                         sheetname='Unemployment Med HH Inc',\n",
    "                         header=6,\n",
    "                         usecols=['FIPStxt', 'State', 'Area_name', 'Unemployment_rate_2016', \n",
    "                                  'Rural_urban_continuum_code_2013','Median_Household_Income_2016'])"
   ]
  },
  {
   "cell_type": "code",
   "execution_count": 48,
   "metadata": {
    "collapsed": true
   },
   "outputs": [],
   "source": [
    "employment.rename(columns = {'FIPStxt': 'FIPS'}, inplace=True)"
   ]
  },
  {
   "cell_type": "code",
   "execution_count": 49,
   "metadata": {
    "collapsed": true
   },
   "outputs": [],
   "source": [
    "employment=employment[employment.State=='IA']"
   ]
  },
  {
   "cell_type": "code",
   "execution_count": 50,
   "metadata": {
    "collapsed": true
   },
   "outputs": [],
   "source": [
    "employment['FIPS']= employment['FIPS'].astype(str)"
   ]
  },
  {
   "cell_type": "code",
   "execution_count": 51,
   "metadata": {
    "collapsed": true
   },
   "outputs": [],
   "source": [
    "employment=employment[employment.State=='IA']"
   ]
  },
  {
   "cell_type": "code",
   "execution_count": 52,
   "metadata": {
    "collapsed": true
   },
   "outputs": [],
   "source": [
    "population=pd.read_excel('/Users/christophermarker/Documents/DSI7/Miscellaneous/PopulationEstimates.xls',\n",
    "                         sheetname='Population Estimates 2010-2016',\n",
    "                         header=2, \n",
    "                         usecols=['FIPS', 'State','CENSUS_2010_POP'])"
   ]
  },
  {
   "cell_type": "code",
   "execution_count": 53,
   "metadata": {
    "collapsed": true
   },
   "outputs": [],
   "source": [
    "population['FIPS']= population['FIPS'].astype(str)"
   ]
  },
  {
   "cell_type": "code",
   "execution_count": 54,
   "metadata": {
    "collapsed": true
   },
   "outputs": [],
   "source": [
    "population=population[population.State=='IA']"
   ]
  },
  {
   "cell_type": "code",
   "execution_count": 55,
   "metadata": {
    "collapsed": true
   },
   "outputs": [],
   "source": [
    "# df.County.sort_values().unique()"
   ]
  },
  {
   "cell_type": "code",
   "execution_count": 56,
   "metadata": {
    "collapsed": true
   },
   "outputs": [],
   "source": [
    "population.drop('State', axis=1, inplace=True)"
   ]
  },
  {
   "cell_type": "code",
   "execution_count": 57,
   "metadata": {
    "collapsed": true
   },
   "outputs": [],
   "source": [
    "usda=pd.merge(employment, population, on='FIPS')"
   ]
  },
  {
   "cell_type": "code",
   "execution_count": 58,
   "metadata": {
    "collapsed": true
   },
   "outputs": [],
   "source": [
    "extra_usda = usda['Area_name'].str.split(' County', n=-1, expand=True)"
   ]
  },
  {
   "cell_type": "code",
   "execution_count": 59,
   "metadata": {
    "collapsed": true
   },
   "outputs": [],
   "source": [
    "usda['County'] = extra_usda[0]"
   ]
  },
  {
   "cell_type": "code",
   "execution_count": 60,
   "metadata": {
    "collapsed": true
   },
   "outputs": [],
   "source": [
    "usda.drop('Area_name', axis=1, inplace=True)"
   ]
  },
  {
   "cell_type": "code",
   "execution_count": 61,
   "metadata": {
    "collapsed": true
   },
   "outputs": [],
   "source": [
    "usda['County'].replace({\"O'Brien\":'OBrien'}, inplace=True)"
   ]
  },
  {
   "cell_type": "code",
   "execution_count": 62,
   "metadata": {
    "collapsed": true
   },
   "outputs": [],
   "source": [
    "usda['Sq_miles'] = cn2['Sq_miles']"
   ]
  },
  {
   "cell_type": "code",
   "execution_count": 400,
   "metadata": {
    "collapsed": true
   },
   "outputs": [],
   "source": [
    "usda['Total Liquor Sales'] = tcs_list"
   ]
  },
  {
   "cell_type": "code",
   "execution_count": 64,
   "metadata": {
    "collapsed": true
   },
   "outputs": [],
   "source": [
    "usda['Liquor Sales Per Capita'] = usda['Total Liquor Sales'] / usda['CENSUS_2010_POP']"
   ]
  },
  {
   "cell_type": "code",
   "execution_count": 65,
   "metadata": {
    "collapsed": true
   },
   "outputs": [],
   "source": [
    "usda['Population Density'] =  usda['CENSUS_2010_POP'] / usda['Sq_miles']"
   ]
  },
  {
   "cell_type": "code",
   "execution_count": 66,
   "metadata": {
    "collapsed": true
   },
   "outputs": [],
   "source": [
    "usda['Total Liquor Stores'] = tls_list"
   ]
  },
  {
   "cell_type": "code",
   "execution_count": 137,
   "metadata": {
    "collapsed": true
   },
   "outputs": [],
   "source": [
    "usda['Total Bottles Sold'] = tbs_list"
   ]
  },
  {
   "cell_type": "code",
   "execution_count": 156,
   "metadata": {
    "collapsed": true
   },
   "outputs": [],
   "source": [
    "usda['Average Bottle Price'] = abp_list"
   ]
  },
  {
   "cell_type": "code",
   "execution_count": 159,
   "metadata": {
    "collapsed": true
   },
   "outputs": [],
   "source": [
    "usda['Average Bottle Price^2'] = usda['Average Bottle Price'] ** 2"
   ]
  },
  {
   "cell_type": "code",
   "execution_count": 100,
   "metadata": {
    "collapsed": true
   },
   "outputs": [],
   "source": [
    "# large numbers\n",
    "\n",
    "usda['Liquor Store Density'] = usda['Sq_miles'] / usda['Total Liquor Stores']"
   ]
  },
  {
   "cell_type": "code",
   "execution_count": 68,
   "metadata": {
    "collapsed": true
   },
   "outputs": [],
   "source": [
    "# small numbers\n",
    "\n",
    "usda['Liquor Store Density'] = usda['Total Liquor Stores'] / usda['Sq_miles']"
   ]
  },
  {
   "cell_type": "code",
   "execution_count": 326,
   "metadata": {
    "collapsed": true
   },
   "outputs": [],
   "source": [
    "# large numbers\n",
    "\n",
    "usda['Liquor Stores Per Capita'] = usda['CENSUS_2010_POP'] / usda['Total Liquor Stores']"
   ]
  },
  {
   "cell_type": "code",
   "execution_count": 117,
   "metadata": {
    "collapsed": true
   },
   "outputs": [],
   "source": [
    "# small numbers\n",
    "\n",
    "usda['Liquor Stores Per Capita'] = usda['Total Liquor Stores'] / usda['CENSUS_2010_POP']"
   ]
  },
  {
   "cell_type": "code",
   "execution_count": 118,
   "metadata": {
    "collapsed": true
   },
   "outputs": [],
   "source": [
    "usda['TPC * 1000'] = usda['Liquor Stores Per Capita'] * 1000"
   ]
  },
  {
   "cell_type": "code",
   "execution_count": 401,
   "metadata": {},
   "outputs": [
    {
     "data": {
      "text/html": [
       "<div>\n",
       "<style>\n",
       "    .dataframe thead tr:only-child th {\n",
       "        text-align: right;\n",
       "    }\n",
       "\n",
       "    .dataframe thead th {\n",
       "        text-align: left;\n",
       "    }\n",
       "\n",
       "    .dataframe tbody tr th {\n",
       "        vertical-align: top;\n",
       "    }\n",
       "</style>\n",
       "<table border=\"1\" class=\"dataframe\">\n",
       "  <thead>\n",
       "    <tr style=\"text-align: right;\">\n",
       "      <th></th>\n",
       "      <th>FIPS</th>\n",
       "      <th>State</th>\n",
       "      <th>Rural_urban_continuum_code_2013</th>\n",
       "      <th>Unemployment_rate_2016</th>\n",
       "      <th>Median_Household_Income_2016</th>\n",
       "      <th>CENSUS_2010_POP</th>\n",
       "      <th>County</th>\n",
       "      <th>Sq_miles</th>\n",
       "      <th>Total Liquor Sales</th>\n",
       "      <th>Liquor Sales Per Capita</th>\n",
       "      <th>Population Density</th>\n",
       "      <th>Total Liquor Stores</th>\n",
       "      <th>Liquor Store Density</th>\n",
       "      <th>Liquor Stores Per Capita</th>\n",
       "      <th>TPC * 1000</th>\n",
       "      <th>Total Bottles Sold</th>\n",
       "      <th>Average Bottle Price</th>\n",
       "      <th>Average Bottle Price^2</th>\n",
       "    </tr>\n",
       "  </thead>\n",
       "  <tbody>\n",
       "    <tr>\n",
       "      <th>0</th>\n",
       "      <td>19000</td>\n",
       "      <td>IA</td>\n",
       "      <td>NaN</td>\n",
       "      <td>3.7</td>\n",
       "      <td>56354.0</td>\n",
       "      <td>3046355</td>\n",
       "      <td>Iowa</td>\n",
       "      <td>55861</td>\n",
       "      <td>3.498549e+08</td>\n",
       "      <td>114.843778</td>\n",
       "      <td>54.534559</td>\n",
       "      <td>1403</td>\n",
       "      <td>39.815396</td>\n",
       "      <td>2171.315039</td>\n",
       "      <td>0.460550</td>\n",
       "      <td>26657629</td>\n",
       "      <td>14.740118</td>\n",
       "      <td>217.271065</td>\n",
       "    </tr>\n",
       "    <tr>\n",
       "      <th>1</th>\n",
       "      <td>19001</td>\n",
       "      <td>IA</td>\n",
       "      <td>8.0</td>\n",
       "      <td>3.0</td>\n",
       "      <td>53416.0</td>\n",
       "      <td>7682</td>\n",
       "      <td>Adair</td>\n",
       "      <td>569</td>\n",
       "      <td>5.301801e+05</td>\n",
       "      <td>69.015898</td>\n",
       "      <td>13.500879</td>\n",
       "      <td>8</td>\n",
       "      <td>71.125000</td>\n",
       "      <td>960.250000</td>\n",
       "      <td>1.041395</td>\n",
       "      <td>43503</td>\n",
       "      <td>13.739184</td>\n",
       "      <td>188.765165</td>\n",
       "    </tr>\n",
       "    <tr>\n",
       "      <th>2</th>\n",
       "      <td>19003</td>\n",
       "      <td>IA</td>\n",
       "      <td>9.0</td>\n",
       "      <td>2.7</td>\n",
       "      <td>46939.0</td>\n",
       "      <td>4029</td>\n",
       "      <td>Adams</td>\n",
       "      <td>424</td>\n",
       "      <td>1.224313e+05</td>\n",
       "      <td>30.387513</td>\n",
       "      <td>9.502358</td>\n",
       "      <td>1</td>\n",
       "      <td>424.000000</td>\n",
       "      <td>4029.000000</td>\n",
       "      <td>0.248201</td>\n",
       "      <td>10173</td>\n",
       "      <td>15.302268</td>\n",
       "      <td>234.159402</td>\n",
       "    </tr>\n",
       "    <tr>\n",
       "      <th>3</th>\n",
       "      <td>19005</td>\n",
       "      <td>IA</td>\n",
       "      <td>6.0</td>\n",
       "      <td>5.0</td>\n",
       "      <td>49439.0</td>\n",
       "      <td>14330</td>\n",
       "      <td>Allamakee</td>\n",
       "      <td>640</td>\n",
       "      <td>1.003697e+06</td>\n",
       "      <td>70.041632</td>\n",
       "      <td>22.390625</td>\n",
       "      <td>6</td>\n",
       "      <td>106.666667</td>\n",
       "      <td>2388.333333</td>\n",
       "      <td>0.418702</td>\n",
       "      <td>74610</td>\n",
       "      <td>14.937870</td>\n",
       "      <td>223.139974</td>\n",
       "    </tr>\n",
       "    <tr>\n",
       "      <th>4</th>\n",
       "      <td>19007</td>\n",
       "      <td>IA</td>\n",
       "      <td>7.0</td>\n",
       "      <td>4.8</td>\n",
       "      <td>39124.0</td>\n",
       "      <td>12887</td>\n",
       "      <td>Appanoose</td>\n",
       "      <td>496</td>\n",
       "      <td>1.012266e+06</td>\n",
       "      <td>78.549409</td>\n",
       "      <td>25.981855</td>\n",
       "      <td>6</td>\n",
       "      <td>82.666667</td>\n",
       "      <td>2147.833333</td>\n",
       "      <td>0.465585</td>\n",
       "      <td>81618</td>\n",
       "      <td>14.404090</td>\n",
       "      <td>207.477801</td>\n",
       "    </tr>\n",
       "  </tbody>\n",
       "</table>\n",
       "</div>"
      ],
      "text/plain": [
       "    FIPS State  Rural_urban_continuum_code_2013  Unemployment_rate_2016  \\\n",
       "0  19000    IA                              NaN                     3.7   \n",
       "1  19001    IA                              8.0                     3.0   \n",
       "2  19003    IA                              9.0                     2.7   \n",
       "3  19005    IA                              6.0                     5.0   \n",
       "4  19007    IA                              7.0                     4.8   \n",
       "\n",
       "   Median_Household_Income_2016  CENSUS_2010_POP     County  Sq_miles  \\\n",
       "0                       56354.0          3046355       Iowa     55861   \n",
       "1                       53416.0             7682      Adair       569   \n",
       "2                       46939.0             4029      Adams       424   \n",
       "3                       49439.0            14330  Allamakee       640   \n",
       "4                       39124.0            12887  Appanoose       496   \n",
       "\n",
       "   Total Liquor Sales  Liquor Sales Per Capita  Population Density  \\\n",
       "0        3.498549e+08               114.843778           54.534559   \n",
       "1        5.301801e+05                69.015898           13.500879   \n",
       "2        1.224313e+05                30.387513            9.502358   \n",
       "3        1.003697e+06                70.041632           22.390625   \n",
       "4        1.012266e+06                78.549409           25.981855   \n",
       "\n",
       "   Total Liquor Stores  Liquor Store Density  Liquor Stores Per Capita  \\\n",
       "0                 1403             39.815396               2171.315039   \n",
       "1                    8             71.125000                960.250000   \n",
       "2                    1            424.000000               4029.000000   \n",
       "3                    6            106.666667               2388.333333   \n",
       "4                    6             82.666667               2147.833333   \n",
       "\n",
       "   TPC * 1000  Total Bottles Sold  Average Bottle Price  \\\n",
       "0    0.460550            26657629             14.740118   \n",
       "1    1.041395               43503             13.739184   \n",
       "2    0.248201               10173             15.302268   \n",
       "3    0.418702               74610             14.937870   \n",
       "4    0.465585               81618             14.404090   \n",
       "\n",
       "   Average Bottle Price^2  \n",
       "0              217.271065  \n",
       "1              188.765165  \n",
       "2              234.159402  \n",
       "3              223.139974  \n",
       "4              207.477801  "
      ]
     },
     "execution_count": 401,
     "metadata": {},
     "output_type": "execute_result"
    }
   ],
   "source": [
    "usda.head()"
   ]
  },
  {
   "cell_type": "code",
   "execution_count": 72,
   "metadata": {},
   "outputs": [
    {
     "data": {
      "text/plain": [
       "Index(['FIPS', 'State', 'Rural_urban_continuum_code_2013',\n",
       "       'Unemployment_rate_2016', 'Median_Household_Income_2016',\n",
       "       'CENSUS_2010_POP', 'County', 'Sq_miles', 'Total Liquor Sales',\n",
       "       'Liquor Sales Per Capita', 'Population Density', 'Total Liquor Stores',\n",
       "       'Liquor Store Density', 'Liquor Stores Per Capita'],\n",
       "      dtype='object')"
      ]
     },
     "execution_count": 72,
     "metadata": {},
     "output_type": "execute_result"
    }
   ],
   "source": [
    "usda.columns"
   ]
  },
  {
   "cell_type": "markdown",
   "metadata": {
    "collapsed": true
   },
   "source": [
    "# Run Multinomial Linear Regression"
   ]
  },
  {
   "cell_type": "code",
   "execution_count": 525,
   "metadata": {
    "collapsed": true
   },
   "outputs": [],
   "source": [
    "## Model I"
   ]
  },
  {
   "cell_type": "code",
   "execution_count": 526,
   "metadata": {
    "collapsed": true
   },
   "outputs": [],
   "source": [
    "df2 = usda.drop([0])"
   ]
  },
  {
   "cell_type": "code",
   "execution_count": 527,
   "metadata": {
    "collapsed": true
   },
   "outputs": [],
   "source": [
    "df2.drop(['Rural_urban_continuum_code_2013', 'Unemployment_rate_2016', 'Median_Household_Income_2016'], axis=1, inplace=True)"
   ]
  },
  {
   "cell_type": "code",
   "execution_count": 528,
   "metadata": {},
   "outputs": [
    {
     "data": {
      "text/plain": [
       "LinearRegression(copy_X=True, fit_intercept=True, n_jobs=1, normalize=False)"
      ]
     },
     "execution_count": 528,
     "metadata": {},
     "output_type": "execute_result"
    }
   ],
   "source": [
    "lm = linear_model.LinearRegression()\n",
    "\n",
    "X = df2[['Population Density', 'Liquor Stores Per Capita', 'Liquor Store Density', \n",
    "         'Total Bottles Sold', 'Average Bottle Price']]\n",
    "y = df2['Liquor Sales Per Capita'] \n",
    "\n",
    "lm.fit(X, y)"
   ]
  },
  {
   "cell_type": "code",
   "execution_count": 529,
   "metadata": {
    "collapsed": true
   },
   "outputs": [],
   "source": [
    "predictions = lm.predict(X)"
   ]
  },
  {
   "cell_type": "code",
   "execution_count": 530,
   "metadata": {},
   "outputs": [
    {
     "data": {
      "text/plain": [
       "668.8125845109081"
      ]
     },
     "execution_count": 530,
     "metadata": {},
     "output_type": "execute_result"
    }
   ],
   "source": [
    "mean_squared_error(predictions, y)"
   ]
  },
  {
   "cell_type": "code",
   "execution_count": 531,
   "metadata": {
    "collapsed": true
   },
   "outputs": [],
   "source": [
    "X_train, X_test, y_train, y_test = train_test_split(X, y, test_size=0.5)"
   ]
  },
  {
   "cell_type": "code",
   "execution_count": 532,
   "metadata": {},
   "outputs": [
    {
     "data": {
      "text/plain": [
       "LinearRegression(copy_X=True, fit_intercept=True, n_jobs=1, normalize=False)"
      ]
     },
     "execution_count": 532,
     "metadata": {},
     "output_type": "execute_result"
    }
   ],
   "source": [
    "lm.fit(X_train, y_train)"
   ]
  },
  {
   "cell_type": "code",
   "execution_count": 533,
   "metadata": {},
   "outputs": [
    {
     "name": "stdout",
     "output_type": "stream",
     "text": [
      "0.712581622616\n"
     ]
    }
   ],
   "source": [
    "print(lm.score(X_train, y_train))"
   ]
  },
  {
   "cell_type": "code",
   "execution_count": 534,
   "metadata": {},
   "outputs": [
    {
     "name": "stdout",
     "output_type": "stream",
     "text": [
      "-0.395847040597\n"
     ]
    }
   ],
   "source": [
    "print(lm.score(X_test, y_test))"
   ]
  },
  {
   "cell_type": "code",
   "execution_count": 535,
   "metadata": {},
   "outputs": [
    {
     "data": {
      "text/plain": [
       "array([ 0.43323399,  0.68733979,  0.24229648])"
      ]
     },
     "execution_count": 535,
     "metadata": {},
     "output_type": "execute_result"
    }
   ],
   "source": [
    "scores = cross_val_score(lm, X, y, cv=3)\n",
    "scores"
   ]
  },
  {
   "cell_type": "code",
   "execution_count": 536,
   "metadata": {},
   "outputs": [
    {
     "name": "stdout",
     "output_type": "stream",
     "text": [
      "0.429115531057\n"
     ]
    }
   ],
   "source": [
    "predictions = cross_val_predict(lm, X, y, cv=5)\n",
    "r2 = metrics.r2_score(y, predictions)\n",
    "print(r2)"
   ]
  },
  {
   "cell_type": "code",
   "execution_count": 537,
   "metadata": {},
   "outputs": [
    {
     "data": {
      "text/plain": [
       "[<matplotlib.lines.Line2D at 0x111e55710>]"
      ]
     },
     "execution_count": 537,
     "metadata": {},
     "output_type": "execute_result"
    },
    {
     "data": {
      "image/png": "[encoded data removed]",
      "text/plain": [
       "<matplotlib.figure.Figure at 0x112294d30>"
      ]
     },
     "metadata": {
      "image/png": {
       "height": 479,
       "width": 494
      }
     },
     "output_type": "display_data"
    }
   ],
   "source": [
    "plt.figure(figsize=(8,8))\n",
    "plt.scatter(predictions, y, s=30, c='r', marker='+', zorder=10)\n",
    "plt.xlabel(\"Predicted Values $\\hat{y}$\")\n",
    "plt.ylabel(\"Actual Values\")\n",
    "\n",
    "plt.plot([0, np.max(y)], [0, np.max(y)])"
   ]
  },
  {
   "cell_type": "code",
   "execution_count": 538,
   "metadata": {
    "collapsed": true
   },
   "outputs": [],
   "source": [
    "df2['y_hat'] = predictions"
   ]
  },
  {
   "cell_type": "code",
   "execution_count": 539,
   "metadata": {
    "collapsed": true
   },
   "outputs": [],
   "source": [
    "df2['errors'] = df2['y_hat'] - df2['Liquor Sales Per Capita'] "
   ]
  },
  {
   "cell_type": "code",
   "execution_count": 540,
   "metadata": {},
   "outputs": [
    {
     "data": {
      "text/plain": [
       "142.84047226473805"
      ]
     },
     "execution_count": 540,
     "metadata": {},
     "output_type": "execute_result"
    }
   ],
   "source": [
    "df2['errors'].max()"
   ]
  },
  {
   "cell_type": "code",
   "execution_count": 541,
   "metadata": {
    "collapsed": true
   },
   "outputs": [
    {
     "data": {
      "text/html": [
       "<div>\n",
       "<style>\n",
       "    .dataframe thead tr:only-child th {\n",
       "        text-align: right;\n",
       "    }\n",
       "\n",
       "    .dataframe thead th {\n",
       "        text-align: left;\n",
       "    }\n",
       "\n",
       "    .dataframe tbody tr th {\n",
       "        vertical-align: top;\n",
       "    }\n",
       "</style>\n",
       "<table border=\"1\" class=\"dataframe\">\n",
       "  <thead>\n",
       "    <tr style=\"text-align: right;\">\n",
       "      <th></th>\n",
       "      <th>FIPS</th>\n",
       "      <th>State</th>\n",
       "      <th>CENSUS_2010_POP</th>\n",
       "      <th>County</th>\n",
       "      <th>Sq_miles</th>\n",
       "      <th>Total Liquor Sales</th>\n",
       "      <th>Liquor Sales Per Capita</th>\n",
       "      <th>Population Density</th>\n",
       "      <th>Total Liquor Stores</th>\n",
       "      <th>Liquor Store Density</th>\n",
       "      <th>Liquor Stores Per Capita</th>\n",
       "      <th>TPC * 1000</th>\n",
       "      <th>Total Bottles Sold</th>\n",
       "      <th>Average Bottle Price</th>\n",
       "      <th>Average Bottle Price^2</th>\n",
       "      <th>y_hat</th>\n",
       "      <th>errors</th>\n",
       "    </tr>\n",
       "  </thead>\n",
       "  <tbody>\n",
       "    <tr>\n",
       "      <th>77</th>\n",
       "      <td>19153</td>\n",
       "      <td>IA</td>\n",
       "      <td>430640</td>\n",
       "      <td>Polk</td>\n",
       "      <td>570</td>\n",
       "      <td>7.854702e+07</td>\n",
       "      <td>182.396024</td>\n",
       "      <td>755.508772</td>\n",
       "      <td>208</td>\n",
       "      <td>2.740385</td>\n",
       "      <td>2070.384615</td>\n",
       "      <td>0.483002</td>\n",
       "      <td>5823190</td>\n",
       "      <td>15.339971</td>\n",
       "      <td>235.314723</td>\n",
       "      <td>325.236497</td>\n",
       "      <td>142.840472</td>\n",
       "    </tr>\n",
       "    <tr>\n",
       "      <th>22</th>\n",
       "      <td>19043</td>\n",
       "      <td>IA</td>\n",
       "      <td>18129</td>\n",
       "      <td>Clayton</td>\n",
       "      <td>779</td>\n",
       "      <td>8.525852e+05</td>\n",
       "      <td>47.028802</td>\n",
       "      <td>23.272144</td>\n",
       "      <td>12</td>\n",
       "      <td>64.916667</td>\n",
       "      <td>1510.750000</td>\n",
       "      <td>0.661923</td>\n",
       "      <td>61565</td>\n",
       "      <td>15.494100</td>\n",
       "      <td>240.067125</td>\n",
       "      <td>102.630426</td>\n",
       "      <td>55.601624</td>\n",
       "    </tr>\n",
       "    <tr>\n",
       "      <th>81</th>\n",
       "      <td>19161</td>\n",
       "      <td>IA</td>\n",
       "      <td>10350</td>\n",
       "      <td>Sac</td>\n",
       "      <td>576</td>\n",
       "      <td>6.709874e+05</td>\n",
       "      <td>64.829704</td>\n",
       "      <td>17.968750</td>\n",
       "      <td>7</td>\n",
       "      <td>82.285714</td>\n",
       "      <td>1478.571429</td>\n",
       "      <td>0.676329</td>\n",
       "      <td>50493</td>\n",
       "      <td>15.732678</td>\n",
       "      <td>247.517143</td>\n",
       "      <td>107.121940</td>\n",
       "      <td>42.292236</td>\n",
       "    </tr>\n",
       "    <tr>\n",
       "      <th>65</th>\n",
       "      <td>19129</td>\n",
       "      <td>IA</td>\n",
       "      <td>15059</td>\n",
       "      <td>Mills</td>\n",
       "      <td>437</td>\n",
       "      <td>5.495891e+05</td>\n",
       "      <td>36.495723</td>\n",
       "      <td>34.459954</td>\n",
       "      <td>6</td>\n",
       "      <td>72.833333</td>\n",
       "      <td>2509.833333</td>\n",
       "      <td>0.398433</td>\n",
       "      <td>47747</td>\n",
       "      <td>14.516095</td>\n",
       "      <td>210.717018</td>\n",
       "      <td>75.371804</td>\n",
       "      <td>38.876081</td>\n",
       "    </tr>\n",
       "    <tr>\n",
       "      <th>93</th>\n",
       "      <td>19185</td>\n",
       "      <td>IA</td>\n",
       "      <td>6403</td>\n",
       "      <td>Wayne</td>\n",
       "      <td>526</td>\n",
       "      <td>1.352292e+05</td>\n",
       "      <td>21.119669</td>\n",
       "      <td>12.173004</td>\n",
       "      <td>3</td>\n",
       "      <td>175.333333</td>\n",
       "      <td>2134.333333</td>\n",
       "      <td>0.468530</td>\n",
       "      <td>10755</td>\n",
       "      <td>14.643492</td>\n",
       "      <td>214.431846</td>\n",
       "      <td>59.707724</td>\n",
       "      <td>38.588055</td>\n",
       "    </tr>\n",
       "    <tr>\n",
       "      <th>89</th>\n",
       "      <td>19177</td>\n",
       "      <td>IA</td>\n",
       "      <td>7570</td>\n",
       "      <td>Van Buren</td>\n",
       "      <td>485</td>\n",
       "      <td>2.199142e+05</td>\n",
       "      <td>29.050753</td>\n",
       "      <td>15.608247</td>\n",
       "      <td>3</td>\n",
       "      <td>161.666667</td>\n",
       "      <td>2523.333333</td>\n",
       "      <td>0.396301</td>\n",
       "      <td>16229</td>\n",
       "      <td>14.763702</td>\n",
       "      <td>217.966892</td>\n",
       "      <td>66.400876</td>\n",
       "      <td>37.350123</td>\n",
       "    </tr>\n",
       "    <tr>\n",
       "      <th>62</th>\n",
       "      <td>19123</td>\n",
       "      <td>IA</td>\n",
       "      <td>22381</td>\n",
       "      <td>Mahaska</td>\n",
       "      <td>571</td>\n",
       "      <td>1.177849e+06</td>\n",
       "      <td>52.627203</td>\n",
       "      <td>39.196147</td>\n",
       "      <td>6</td>\n",
       "      <td>95.166667</td>\n",
       "      <td>3730.166667</td>\n",
       "      <td>0.268085</td>\n",
       "      <td>96208</td>\n",
       "      <td>15.077302</td>\n",
       "      <td>227.325030</td>\n",
       "      <td>86.524000</td>\n",
       "      <td>33.896797</td>\n",
       "    </tr>\n",
       "    <tr>\n",
       "      <th>84</th>\n",
       "      <td>19167</td>\n",
       "      <td>IA</td>\n",
       "      <td>33704</td>\n",
       "      <td>Sioux</td>\n",
       "      <td>768</td>\n",
       "      <td>1.834621e+06</td>\n",
       "      <td>54.433330</td>\n",
       "      <td>43.885417</td>\n",
       "      <td>9</td>\n",
       "      <td>85.333333</td>\n",
       "      <td>3744.888889</td>\n",
       "      <td>0.267031</td>\n",
       "      <td>123365</td>\n",
       "      <td>14.881450</td>\n",
       "      <td>221.457542</td>\n",
       "      <td>88.180975</td>\n",
       "      <td>33.747645</td>\n",
       "    </tr>\n",
       "    <tr>\n",
       "      <th>66</th>\n",
       "      <td>19131</td>\n",
       "      <td>IA</td>\n",
       "      <td>10776</td>\n",
       "      <td>Mitchell</td>\n",
       "      <td>469</td>\n",
       "      <td>5.445430e+05</td>\n",
       "      <td>50.532941</td>\n",
       "      <td>22.976546</td>\n",
       "      <td>5</td>\n",
       "      <td>93.800000</td>\n",
       "      <td>2155.200000</td>\n",
       "      <td>0.463994</td>\n",
       "      <td>42523</td>\n",
       "      <td>14.698779</td>\n",
       "      <td>216.054110</td>\n",
       "      <td>77.521946</td>\n",
       "      <td>26.989005</td>\n",
       "    </tr>\n",
       "    <tr>\n",
       "      <th>51</th>\n",
       "      <td>19101</td>\n",
       "      <td>IA</td>\n",
       "      <td>16843</td>\n",
       "      <td>Jefferson</td>\n",
       "      <td>435</td>\n",
       "      <td>1.071614e+06</td>\n",
       "      <td>63.623688</td>\n",
       "      <td>38.719540</td>\n",
       "      <td>4</td>\n",
       "      <td>108.750000</td>\n",
       "      <td>4210.750000</td>\n",
       "      <td>0.237487</td>\n",
       "      <td>81746</td>\n",
       "      <td>15.384084</td>\n",
       "      <td>236.670051</td>\n",
       "      <td>89.548692</td>\n",
       "      <td>25.925004</td>\n",
       "    </tr>\n",
       "    <tr>\n",
       "      <th>6</th>\n",
       "      <td>19011</td>\n",
       "      <td>IA</td>\n",
       "      <td>26076</td>\n",
       "      <td>Benton</td>\n",
       "      <td>716</td>\n",
       "      <td>9.047765e+05</td>\n",
       "      <td>34.697673</td>\n",
       "      <td>36.418994</td>\n",
       "      <td>6</td>\n",
       "      <td>119.333333</td>\n",
       "      <td>4346.000000</td>\n",
       "      <td>0.230097</td>\n",
       "      <td>70228</td>\n",
       "      <td>13.788517</td>\n",
       "      <td>190.123201</td>\n",
       "      <td>59.705329</td>\n",
       "      <td>25.007656</td>\n",
       "    </tr>\n",
       "    <tr>\n",
       "      <th>35</th>\n",
       "      <td>19069</td>\n",
       "      <td>IA</td>\n",
       "      <td>10680</td>\n",
       "      <td>Franklin</td>\n",
       "      <td>582</td>\n",
       "      <td>6.102512e+05</td>\n",
       "      <td>57.139622</td>\n",
       "      <td>18.350515</td>\n",
       "      <td>6</td>\n",
       "      <td>97.000000</td>\n",
       "      <td>1780.000000</td>\n",
       "      <td>0.561798</td>\n",
       "      <td>48510</td>\n",
       "      <td>14.910976</td>\n",
       "      <td>222.337209</td>\n",
       "      <td>82.042517</td>\n",
       "      <td>24.902896</td>\n",
       "    </tr>\n",
       "    <tr>\n",
       "      <th>98</th>\n",
       "      <td>19195</td>\n",
       "      <td>IA</td>\n",
       "      <td>7598</td>\n",
       "      <td>Worth</td>\n",
       "      <td>400</td>\n",
       "      <td>3.291893e+05</td>\n",
       "      <td>43.325783</td>\n",
       "      <td>18.995000</td>\n",
       "      <td>3</td>\n",
       "      <td>133.333333</td>\n",
       "      <td>2532.666667</td>\n",
       "      <td>0.394841</td>\n",
       "      <td>26480</td>\n",
       "      <td>14.502084</td>\n",
       "      <td>210.310452</td>\n",
       "      <td>67.565825</td>\n",
       "      <td>24.240042</td>\n",
       "    </tr>\n",
       "    <tr>\n",
       "      <th>74</th>\n",
       "      <td>19147</td>\n",
       "      <td>IA</td>\n",
       "      <td>9421</td>\n",
       "      <td>Palo Alto</td>\n",
       "      <td>564</td>\n",
       "      <td>7.559786e+05</td>\n",
       "      <td>80.243983</td>\n",
       "      <td>16.703901</td>\n",
       "      <td>8</td>\n",
       "      <td>70.500000</td>\n",
       "      <td>1177.625000</td>\n",
       "      <td>0.849167</td>\n",
       "      <td>54930</td>\n",
       "      <td>15.629041</td>\n",
       "      <td>244.266910</td>\n",
       "      <td>103.901565</td>\n",
       "      <td>23.657582</td>\n",
       "    </tr>\n",
       "    <tr>\n",
       "      <th>27</th>\n",
       "      <td>19053</td>\n",
       "      <td>IA</td>\n",
       "      <td>8457</td>\n",
       "      <td>Decatur</td>\n",
       "      <td>532</td>\n",
       "      <td>2.192651e+05</td>\n",
       "      <td>25.927059</td>\n",
       "      <td>15.896617</td>\n",
       "      <td>5</td>\n",
       "      <td>106.400000</td>\n",
       "      <td>1691.400000</td>\n",
       "      <td>0.591226</td>\n",
       "      <td>18002</td>\n",
       "      <td>13.438290</td>\n",
       "      <td>180.587641</td>\n",
       "      <td>49.220608</td>\n",
       "      <td>23.293549</td>\n",
       "    </tr>\n",
       "    <tr>\n",
       "      <th>19</th>\n",
       "      <td>19037</td>\n",
       "      <td>IA</td>\n",
       "      <td>12439</td>\n",
       "      <td>Chickasaw</td>\n",
       "      <td>505</td>\n",
       "      <td>4.604198e+05</td>\n",
       "      <td>37.014210</td>\n",
       "      <td>24.631683</td>\n",
       "      <td>5</td>\n",
       "      <td>101.000000</td>\n",
       "      <td>2487.800000</td>\n",
       "      <td>0.401962</td>\n",
       "      <td>34750</td>\n",
       "      <td>13.876113</td>\n",
       "      <td>192.546508</td>\n",
       "      <td>59.907858</td>\n",
       "      <td>22.893648</td>\n",
       "    </tr>\n",
       "    <tr>\n",
       "      <th>39</th>\n",
       "      <td>19077</td>\n",
       "      <td>IA</td>\n",
       "      <td>10954</td>\n",
       "      <td>Guthrie</td>\n",
       "      <td>591</td>\n",
       "      <td>3.564276e+05</td>\n",
       "      <td>32.538583</td>\n",
       "      <td>18.534687</td>\n",
       "      <td>5</td>\n",
       "      <td>118.200000</td>\n",
       "      <td>2190.800000</td>\n",
       "      <td>0.456454</td>\n",
       "      <td>30300</td>\n",
       "      <td>13.882814</td>\n",
       "      <td>192.732517</td>\n",
       "      <td>53.906902</td>\n",
       "      <td>21.368319</td>\n",
       "    </tr>\n",
       "    <tr>\n",
       "      <th>50</th>\n",
       "      <td>19099</td>\n",
       "      <td>IA</td>\n",
       "      <td>36842</td>\n",
       "      <td>Jasper</td>\n",
       "      <td>730</td>\n",
       "      <td>2.058520e+06</td>\n",
       "      <td>55.874268</td>\n",
       "      <td>50.468493</td>\n",
       "      <td>16</td>\n",
       "      <td>45.625000</td>\n",
       "      <td>2302.625000</td>\n",
       "      <td>0.434287</td>\n",
       "      <td>171159</td>\n",
       "      <td>13.916554</td>\n",
       "      <td>193.670484</td>\n",
       "      <td>75.491964</td>\n",
       "      <td>19.617695</td>\n",
       "    </tr>\n",
       "    <tr>\n",
       "      <th>96</th>\n",
       "      <td>19191</td>\n",
       "      <td>IA</td>\n",
       "      <td>21056</td>\n",
       "      <td>Winneshiek</td>\n",
       "      <td>690</td>\n",
       "      <td>1.578802e+06</td>\n",
       "      <td>74.981085</td>\n",
       "      <td>30.515942</td>\n",
       "      <td>5</td>\n",
       "      <td>138.000000</td>\n",
       "      <td>4211.200000</td>\n",
       "      <td>0.237462</td>\n",
       "      <td>114224</td>\n",
       "      <td>15.288626</td>\n",
       "      <td>233.742073</td>\n",
       "      <td>93.565120</td>\n",
       "      <td>18.584035</td>\n",
       "    </tr>\n",
       "    <tr>\n",
       "      <th>12</th>\n",
       "      <td>19023</td>\n",
       "      <td>IA</td>\n",
       "      <td>14867</td>\n",
       "      <td>Butler</td>\n",
       "      <td>580</td>\n",
       "      <td>3.606397e+05</td>\n",
       "      <td>24.257730</td>\n",
       "      <td>25.632759</td>\n",
       "      <td>7</td>\n",
       "      <td>82.857143</td>\n",
       "      <td>2123.857143</td>\n",
       "      <td>0.470841</td>\n",
       "      <td>31640</td>\n",
       "      <td>12.719335</td>\n",
       "      <td>161.781477</td>\n",
       "      <td>42.812986</td>\n",
       "      <td>18.555257</td>\n",
       "    </tr>\n",
       "    <tr>\n",
       "      <th>97</th>\n",
       "      <td>19193</td>\n",
       "      <td>IA</td>\n",
       "      <td>102172</td>\n",
       "      <td>Woodbury</td>\n",
       "      <td>873</td>\n",
       "      <td>1.250641e+07</td>\n",
       "      <td>122.405457</td>\n",
       "      <td>117.035510</td>\n",
       "      <td>39</td>\n",
       "      <td>22.384615</td>\n",
       "      <td>2619.794872</td>\n",
       "      <td>0.381709</td>\n",
       "      <td>950205</td>\n",
       "      <td>14.974070</td>\n",
       "      <td>224.222758</td>\n",
       "      <td>139.904611</td>\n",
       "      <td>17.499154</td>\n",
       "    </tr>\n",
       "    <tr>\n",
       "      <th>92</th>\n",
       "      <td>19183</td>\n",
       "      <td>IA</td>\n",
       "      <td>21704</td>\n",
       "      <td>Washington</td>\n",
       "      <td>569</td>\n",
       "      <td>1.813265e+06</td>\n",
       "      <td>83.545207</td>\n",
       "      <td>38.144112</td>\n",
       "      <td>7</td>\n",
       "      <td>81.285714</td>\n",
       "      <td>3100.571429</td>\n",
       "      <td>0.322521</td>\n",
       "      <td>131416</td>\n",
       "      <td>15.295749</td>\n",
       "      <td>233.959944</td>\n",
       "      <td>100.271293</td>\n",
       "      <td>16.726086</td>\n",
       "    </tr>\n",
       "    <tr>\n",
       "      <th>61</th>\n",
       "      <td>19121</td>\n",
       "      <td>IA</td>\n",
       "      <td>15679</td>\n",
       "      <td>Madison</td>\n",
       "      <td>561</td>\n",
       "      <td>9.379085e+05</td>\n",
       "      <td>59.819405</td>\n",
       "      <td>27.948307</td>\n",
       "      <td>8</td>\n",
       "      <td>70.125000</td>\n",
       "      <td>1959.875000</td>\n",
       "      <td>0.510237</td>\n",
       "      <td>74382</td>\n",
       "      <td>14.361410</td>\n",
       "      <td>206.250096</td>\n",
       "      <td>76.120443</td>\n",
       "      <td>16.301038</td>\n",
       "    </tr>\n",
       "    <tr>\n",
       "      <th>69</th>\n",
       "      <td>19137</td>\n",
       "      <td>IA</td>\n",
       "      <td>10740</td>\n",
       "      <td>Montgomery</td>\n",
       "      <td>424</td>\n",
       "      <td>7.718278e+05</td>\n",
       "      <td>71.864790</td>\n",
       "      <td>25.330189</td>\n",
       "      <td>5</td>\n",
       "      <td>84.800000</td>\n",
       "      <td>2148.000000</td>\n",
       "      <td>0.465549</td>\n",
       "      <td>60614</td>\n",
       "      <td>15.056697</td>\n",
       "      <td>226.704132</td>\n",
       "      <td>87.715309</td>\n",
       "      <td>15.850520</td>\n",
       "    </tr>\n",
       "    <tr>\n",
       "      <th>99</th>\n",
       "      <td>19197</td>\n",
       "      <td>IA</td>\n",
       "      <td>13229</td>\n",
       "      <td>Wright</td>\n",
       "      <td>581</td>\n",
       "      <td>8.752810e+05</td>\n",
       "      <td>66.163805</td>\n",
       "      <td>22.769363</td>\n",
       "      <td>10</td>\n",
       "      <td>58.100000</td>\n",
       "      <td>1322.900000</td>\n",
       "      <td>0.755915</td>\n",
       "      <td>69653</td>\n",
       "      <td>14.359717</td>\n",
       "      <td>206.201463</td>\n",
       "      <td>81.849727</td>\n",
       "      <td>15.685922</td>\n",
       "    </tr>\n",
       "    <tr>\n",
       "      <th>68</th>\n",
       "      <td>19135</td>\n",
       "      <td>IA</td>\n",
       "      <td>7970</td>\n",
       "      <td>Monroe</td>\n",
       "      <td>433</td>\n",
       "      <td>3.731310e+05</td>\n",
       "      <td>46.816940</td>\n",
       "      <td>18.406467</td>\n",
       "      <td>3</td>\n",
       "      <td>144.333333</td>\n",
       "      <td>2656.666667</td>\n",
       "      <td>0.376412</td>\n",
       "      <td>28075</td>\n",
       "      <td>14.442635</td>\n",
       "      <td>208.589716</td>\n",
       "      <td>62.188173</td>\n",
       "      <td>15.371233</td>\n",
       "    </tr>\n",
       "    <tr>\n",
       "      <th>43</th>\n",
       "      <td>19085</td>\n",
       "      <td>IA</td>\n",
       "      <td>14928</td>\n",
       "      <td>Harrison</td>\n",
       "      <td>697</td>\n",
       "      <td>6.091271e+05</td>\n",
       "      <td>40.804333</td>\n",
       "      <td>21.417504</td>\n",
       "      <td>7</td>\n",
       "      <td>99.571429</td>\n",
       "      <td>2132.571429</td>\n",
       "      <td>0.468917</td>\n",
       "      <td>51688</td>\n",
       "      <td>13.583937</td>\n",
       "      <td>184.523349</td>\n",
       "      <td>55.668733</td>\n",
       "      <td>14.864399</td>\n",
       "    </tr>\n",
       "    <tr>\n",
       "      <th>38</th>\n",
       "      <td>19075</td>\n",
       "      <td>IA</td>\n",
       "      <td>12453</td>\n",
       "      <td>Grundy</td>\n",
       "      <td>503</td>\n",
       "      <td>3.918330e+05</td>\n",
       "      <td>31.464944</td>\n",
       "      <td>24.757455</td>\n",
       "      <td>8</td>\n",
       "      <td>62.875000</td>\n",
       "      <td>1556.625000</td>\n",
       "      <td>0.642415</td>\n",
       "      <td>33890</td>\n",
       "      <td>12.729771</td>\n",
       "      <td>162.047072</td>\n",
       "      <td>46.146056</td>\n",
       "      <td>14.681112</td>\n",
       "    </tr>\n",
       "    <tr>\n",
       "      <th>80</th>\n",
       "      <td>19159</td>\n",
       "      <td>IA</td>\n",
       "      <td>5131</td>\n",
       "      <td>Ringgold</td>\n",
       "      <td>538</td>\n",
       "      <td>1.731132e+05</td>\n",
       "      <td>33.738683</td>\n",
       "      <td>9.537175</td>\n",
       "      <td>3</td>\n",
       "      <td>179.333333</td>\n",
       "      <td>1710.333333</td>\n",
       "      <td>0.584681</td>\n",
       "      <td>12769</td>\n",
       "      <td>14.123351</td>\n",
       "      <td>199.469050</td>\n",
       "      <td>48.048715</td>\n",
       "      <td>14.310033</td>\n",
       "    </tr>\n",
       "    <tr>\n",
       "      <th>87</th>\n",
       "      <td>19173</td>\n",
       "      <td>IA</td>\n",
       "      <td>6317</td>\n",
       "      <td>Taylor</td>\n",
       "      <td>534</td>\n",
       "      <td>1.423536e+05</td>\n",
       "      <td>22.535002</td>\n",
       "      <td>11.829588</td>\n",
       "      <td>3</td>\n",
       "      <td>178.000000</td>\n",
       "      <td>2105.666667</td>\n",
       "      <td>0.474909</td>\n",
       "      <td>12147</td>\n",
       "      <td>13.618009</td>\n",
       "      <td>185.450162</td>\n",
       "      <td>36.830048</td>\n",
       "      <td>14.295046</td>\n",
       "    </tr>\n",
       "    <tr>\n",
       "      <th>...</th>\n",
       "      <td>...</td>\n",
       "      <td>...</td>\n",
       "      <td>...</td>\n",
       "      <td>...</td>\n",
       "      <td>...</td>\n",
       "      <td>...</td>\n",
       "      <td>...</td>\n",
       "      <td>...</td>\n",
       "      <td>...</td>\n",
       "      <td>...</td>\n",
       "      <td>...</td>\n",
       "      <td>...</td>\n",
       "      <td>...</td>\n",
       "      <td>...</td>\n",
       "      <td>...</td>\n",
       "      <td>...</td>\n",
       "      <td>...</td>\n",
       "    </tr>\n",
       "    <tr>\n",
       "      <th>40</th>\n",
       "      <td>19079</td>\n",
       "      <td>IA</td>\n",
       "      <td>15673</td>\n",
       "      <td>Hamilton</td>\n",
       "      <td>577</td>\n",
       "      <td>1.029072e+06</td>\n",
       "      <td>65.658877</td>\n",
       "      <td>27.162912</td>\n",
       "      <td>8</td>\n",
       "      <td>72.125000</td>\n",
       "      <td>1959.125000</td>\n",
       "      <td>0.510432</td>\n",
       "      <td>84037</td>\n",
       "      <td>13.427951</td>\n",
       "      <td>180.309871</td>\n",
       "      <td>58.656953</td>\n",
       "      <td>-7.001924</td>\n",
       "    </tr>\n",
       "    <tr>\n",
       "      <th>47</th>\n",
       "      <td>19093</td>\n",
       "      <td>IA</td>\n",
       "      <td>7089</td>\n",
       "      <td>Ida</td>\n",
       "      <td>432</td>\n",
       "      <td>6.845848e+05</td>\n",
       "      <td>96.570010</td>\n",
       "      <td>16.409722</td>\n",
       "      <td>4</td>\n",
       "      <td>108.000000</td>\n",
       "      <td>1772.250000</td>\n",
       "      <td>0.564254</td>\n",
       "      <td>48663</td>\n",
       "      <td>15.539189</td>\n",
       "      <td>241.466402</td>\n",
       "      <td>87.092019</td>\n",
       "      <td>-9.477991</td>\n",
       "    </tr>\n",
       "    <tr>\n",
       "      <th>49</th>\n",
       "      <td>19097</td>\n",
       "      <td>IA</td>\n",
       "      <td>19848</td>\n",
       "      <td>Jackson</td>\n",
       "      <td>636</td>\n",
       "      <td>1.507479e+06</td>\n",
       "      <td>75.951192</td>\n",
       "      <td>31.207547</td>\n",
       "      <td>8</td>\n",
       "      <td>79.500000</td>\n",
       "      <td>2481.000000</td>\n",
       "      <td>0.403063</td>\n",
       "      <td>117820</td>\n",
       "      <td>13.727771</td>\n",
       "      <td>188.451691</td>\n",
       "      <td>66.174243</td>\n",
       "      <td>-9.776949</td>\n",
       "    </tr>\n",
       "    <tr>\n",
       "      <th>67</th>\n",
       "      <td>19133</td>\n",
       "      <td>IA</td>\n",
       "      <td>9243</td>\n",
       "      <td>Monona</td>\n",
       "      <td>693</td>\n",
       "      <td>6.515155e+05</td>\n",
       "      <td>70.487453</td>\n",
       "      <td>13.337662</td>\n",
       "      <td>4</td>\n",
       "      <td>173.250000</td>\n",
       "      <td>2310.750000</td>\n",
       "      <td>0.432760</td>\n",
       "      <td>52877</td>\n",
       "      <td>14.435406</td>\n",
       "      <td>208.380941</td>\n",
       "      <td>58.831740</td>\n",
       "      <td>-11.655714</td>\n",
       "    </tr>\n",
       "    <tr>\n",
       "      <th>48</th>\n",
       "      <td>19095</td>\n",
       "      <td>IA</td>\n",
       "      <td>16355</td>\n",
       "      <td>Iowa</td>\n",
       "      <td>586</td>\n",
       "      <td>1.306083e+06</td>\n",
       "      <td>79.858349</td>\n",
       "      <td>27.909556</td>\n",
       "      <td>8</td>\n",
       "      <td>73.250000</td>\n",
       "      <td>2044.375000</td>\n",
       "      <td>0.489147</td>\n",
       "      <td>97812</td>\n",
       "      <td>13.854845</td>\n",
       "      <td>191.956727</td>\n",
       "      <td>68.153288</td>\n",
       "      <td>-11.705060</td>\n",
       "    </tr>\n",
       "    <tr>\n",
       "      <th>15</th>\n",
       "      <td>19029</td>\n",
       "      <td>IA</td>\n",
       "      <td>13956</td>\n",
       "      <td>Cass</td>\n",
       "      <td>564</td>\n",
       "      <td>1.423170e+06</td>\n",
       "      <td>101.975473</td>\n",
       "      <td>24.744681</td>\n",
       "      <td>10</td>\n",
       "      <td>56.400000</td>\n",
       "      <td>1395.600000</td>\n",
       "      <td>0.716538</td>\n",
       "      <td>102295</td>\n",
       "      <td>14.867513</td>\n",
       "      <td>221.042949</td>\n",
       "      <td>89.421627</td>\n",
       "      <td>-12.553846</td>\n",
       "    </tr>\n",
       "    <tr>\n",
       "      <th>23</th>\n",
       "      <td>19045</td>\n",
       "      <td>IA</td>\n",
       "      <td>49116</td>\n",
       "      <td>Clinton</td>\n",
       "      <td>695</td>\n",
       "      <td>4.178292e+06</td>\n",
       "      <td>85.069868</td>\n",
       "      <td>70.670504</td>\n",
       "      <td>18</td>\n",
       "      <td>38.611111</td>\n",
       "      <td>2728.666667</td>\n",
       "      <td>0.366479</td>\n",
       "      <td>344712</td>\n",
       "      <td>13.588960</td>\n",
       "      <td>184.659836</td>\n",
       "      <td>72.232301</td>\n",
       "      <td>-12.837567</td>\n",
       "    </tr>\n",
       "    <tr>\n",
       "      <th>70</th>\n",
       "      <td>19139</td>\n",
       "      <td>IA</td>\n",
       "      <td>42745</td>\n",
       "      <td>Muscatine</td>\n",
       "      <td>439</td>\n",
       "      <td>3.718515e+06</td>\n",
       "      <td>86.992985</td>\n",
       "      <td>97.369021</td>\n",
       "      <td>20</td>\n",
       "      <td>21.950000</td>\n",
       "      <td>2137.250000</td>\n",
       "      <td>0.467891</td>\n",
       "      <td>287563</td>\n",
       "      <td>14.048372</td>\n",
       "      <td>197.356746</td>\n",
       "      <td>74.075028</td>\n",
       "      <td>-12.917957</td>\n",
       "    </tr>\n",
       "    <tr>\n",
       "      <th>46</th>\n",
       "      <td>19091</td>\n",
       "      <td>IA</td>\n",
       "      <td>9815</td>\n",
       "      <td>Humboldt</td>\n",
       "      <td>434</td>\n",
       "      <td>7.919440e+05</td>\n",
       "      <td>80.687112</td>\n",
       "      <td>22.615207</td>\n",
       "      <td>4</td>\n",
       "      <td>108.500000</td>\n",
       "      <td>2453.750000</td>\n",
       "      <td>0.407539</td>\n",
       "      <td>60169</td>\n",
       "      <td>14.199279</td>\n",
       "      <td>201.619523</td>\n",
       "      <td>65.313623</td>\n",
       "      <td>-15.373489</td>\n",
       "    </tr>\n",
       "    <tr>\n",
       "      <th>83</th>\n",
       "      <td>19165</td>\n",
       "      <td>IA</td>\n",
       "      <td>12167</td>\n",
       "      <td>Shelby</td>\n",
       "      <td>591</td>\n",
       "      <td>1.003977e+06</td>\n",
       "      <td>82.516362</td>\n",
       "      <td>20.587140</td>\n",
       "      <td>4</td>\n",
       "      <td>147.750000</td>\n",
       "      <td>3041.750000</td>\n",
       "      <td>0.328758</td>\n",
       "      <td>74392</td>\n",
       "      <td>14.348133</td>\n",
       "      <td>205.868922</td>\n",
       "      <td>66.998650</td>\n",
       "      <td>-15.517712</td>\n",
       "    </tr>\n",
       "    <tr>\n",
       "      <th>34</th>\n",
       "      <td>19067</td>\n",
       "      <td>IA</td>\n",
       "      <td>16303</td>\n",
       "      <td>Floyd</td>\n",
       "      <td>501</td>\n",
       "      <td>1.535583e+06</td>\n",
       "      <td>94.190193</td>\n",
       "      <td>32.540918</td>\n",
       "      <td>7</td>\n",
       "      <td>71.571429</td>\n",
       "      <td>2329.000000</td>\n",
       "      <td>0.429369</td>\n",
       "      <td>118610</td>\n",
       "      <td>14.424217</td>\n",
       "      <td>208.058023</td>\n",
       "      <td>78.491460</td>\n",
       "      <td>-15.698733</td>\n",
       "    </tr>\n",
       "    <tr>\n",
       "      <th>24</th>\n",
       "      <td>19047</td>\n",
       "      <td>IA</td>\n",
       "      <td>17096</td>\n",
       "      <td>Crawford</td>\n",
       "      <td>714</td>\n",
       "      <td>1.546616e+06</td>\n",
       "      <td>90.466561</td>\n",
       "      <td>23.943978</td>\n",
       "      <td>6</td>\n",
       "      <td>119.000000</td>\n",
       "      <td>2849.333333</td>\n",
       "      <td>0.350959</td>\n",
       "      <td>108825</td>\n",
       "      <td>14.760848</td>\n",
       "      <td>217.882633</td>\n",
       "      <td>72.583473</td>\n",
       "      <td>-17.883088</td>\n",
       "    </tr>\n",
       "    <tr>\n",
       "      <th>52</th>\n",
       "      <td>19103</td>\n",
       "      <td>IA</td>\n",
       "      <td>130882</td>\n",
       "      <td>Johnson</td>\n",
       "      <td>614</td>\n",
       "      <td>2.163711e+07</td>\n",
       "      <td>165.317713</td>\n",
       "      <td>213.162866</td>\n",
       "      <td>55</td>\n",
       "      <td>11.163636</td>\n",
       "      <td>2379.672727</td>\n",
       "      <td>0.420226</td>\n",
       "      <td>1535222</td>\n",
       "      <td>15.664164</td>\n",
       "      <td>245.366038</td>\n",
       "      <td>145.685146</td>\n",
       "      <td>-19.632566</td>\n",
       "    </tr>\n",
       "    <tr>\n",
       "      <th>85</th>\n",
       "      <td>19169</td>\n",
       "      <td>IA</td>\n",
       "      <td>89542</td>\n",
       "      <td>Story</td>\n",
       "      <td>573</td>\n",
       "      <td>1.059031e+07</td>\n",
       "      <td>118.271934</td>\n",
       "      <td>156.268761</td>\n",
       "      <td>38</td>\n",
       "      <td>15.078947</td>\n",
       "      <td>2356.368421</td>\n",
       "      <td>0.424382</td>\n",
       "      <td>770265</td>\n",
       "      <td>15.301055</td>\n",
       "      <td>234.122284</td>\n",
       "      <td>96.672688</td>\n",
       "      <td>-21.599246</td>\n",
       "    </tr>\n",
       "    <tr>\n",
       "      <th>45</th>\n",
       "      <td>19089</td>\n",
       "      <td>IA</td>\n",
       "      <td>9566</td>\n",
       "      <td>Howard</td>\n",
       "      <td>473</td>\n",
       "      <td>8.466667e+05</td>\n",
       "      <td>88.507916</td>\n",
       "      <td>20.224101</td>\n",
       "      <td>3</td>\n",
       "      <td>157.666667</td>\n",
       "      <td>3188.666667</td>\n",
       "      <td>0.313611</td>\n",
       "      <td>58234</td>\n",
       "      <td>14.819682</td>\n",
       "      <td>219.622980</td>\n",
       "      <td>65.897406</td>\n",
       "      <td>-22.610510</td>\n",
       "    </tr>\n",
       "    <tr>\n",
       "      <th>71</th>\n",
       "      <td>19141</td>\n",
       "      <td>IA</td>\n",
       "      <td>14398</td>\n",
       "      <td>OBrien</td>\n",
       "      <td>573</td>\n",
       "      <td>1.532898e+06</td>\n",
       "      <td>106.466018</td>\n",
       "      <td>25.127400</td>\n",
       "      <td>10</td>\n",
       "      <td>57.300000</td>\n",
       "      <td>1439.800000</td>\n",
       "      <td>0.694541</td>\n",
       "      <td>115457</td>\n",
       "      <td>14.277901</td>\n",
       "      <td>203.858471</td>\n",
       "      <td>80.552097</td>\n",
       "      <td>-25.913920</td>\n",
       "    </tr>\n",
       "    <tr>\n",
       "      <th>21</th>\n",
       "      <td>19041</td>\n",
       "      <td>IA</td>\n",
       "      <td>16667</td>\n",
       "      <td>Clay</td>\n",
       "      <td>569</td>\n",
       "      <td>1.904334e+06</td>\n",
       "      <td>114.257739</td>\n",
       "      <td>29.291740</td>\n",
       "      <td>8</td>\n",
       "      <td>71.125000</td>\n",
       "      <td>2083.375000</td>\n",
       "      <td>0.479990</td>\n",
       "      <td>144791</td>\n",
       "      <td>14.771974</td>\n",
       "      <td>218.211212</td>\n",
       "      <td>88.017647</td>\n",
       "      <td>-26.240092</td>\n",
       "    </tr>\n",
       "    <tr>\n",
       "      <th>29</th>\n",
       "      <td>19057</td>\n",
       "      <td>IA</td>\n",
       "      <td>40325</td>\n",
       "      <td>Des Moines</td>\n",
       "      <td>416</td>\n",
       "      <td>4.713904e+06</td>\n",
       "      <td>116.897800</td>\n",
       "      <td>96.935096</td>\n",
       "      <td>21</td>\n",
       "      <td>19.809524</td>\n",
       "      <td>1920.238095</td>\n",
       "      <td>0.520769</td>\n",
       "      <td>380273</td>\n",
       "      <td>14.337266</td>\n",
       "      <td>205.557189</td>\n",
       "      <td>89.476520</td>\n",
       "      <td>-27.421280</td>\n",
       "    </tr>\n",
       "    <tr>\n",
       "      <th>7</th>\n",
       "      <td>19013</td>\n",
       "      <td>IA</td>\n",
       "      <td>131090</td>\n",
       "      <td>Black Hawk</td>\n",
       "      <td>567</td>\n",
       "      <td>1.991899e+07</td>\n",
       "      <td>151.948962</td>\n",
       "      <td>231.199295</td>\n",
       "      <td>73</td>\n",
       "      <td>7.767123</td>\n",
       "      <td>1795.753425</td>\n",
       "      <td>0.556869</td>\n",
       "      <td>1739236</td>\n",
       "      <td>14.129901</td>\n",
       "      <td>199.654113</td>\n",
       "      <td>122.649457</td>\n",
       "      <td>-29.299505</td>\n",
       "    </tr>\n",
       "    <tr>\n",
       "      <th>56</th>\n",
       "      <td>19111</td>\n",
       "      <td>IA</td>\n",
       "      <td>35862</td>\n",
       "      <td>Lee</td>\n",
       "      <td>517</td>\n",
       "      <td>4.689268e+06</td>\n",
       "      <td>130.758687</td>\n",
       "      <td>69.365571</td>\n",
       "      <td>17</td>\n",
       "      <td>30.411765</td>\n",
       "      <td>2109.529412</td>\n",
       "      <td>0.474039</td>\n",
       "      <td>344407</td>\n",
       "      <td>14.920697</td>\n",
       "      <td>222.627185</td>\n",
       "      <td>100.748503</td>\n",
       "      <td>-30.010185</td>\n",
       "    </tr>\n",
       "    <tr>\n",
       "      <th>2</th>\n",
       "      <td>19003</td>\n",
       "      <td>IA</td>\n",
       "      <td>4029</td>\n",
       "      <td>Adams</td>\n",
       "      <td>424</td>\n",
       "      <td>1.224313e+05</td>\n",
       "      <td>30.387513</td>\n",
       "      <td>9.502358</td>\n",
       "      <td>1</td>\n",
       "      <td>424.000000</td>\n",
       "      <td>4029.000000</td>\n",
       "      <td>0.248201</td>\n",
       "      <td>10173</td>\n",
       "      <td>15.302268</td>\n",
       "      <td>234.159402</td>\n",
       "      <td>-0.002019</td>\n",
       "      <td>-30.389532</td>\n",
       "    </tr>\n",
       "    <tr>\n",
       "      <th>42</th>\n",
       "      <td>19083</td>\n",
       "      <td>IA</td>\n",
       "      <td>17534</td>\n",
       "      <td>Hardin</td>\n",
       "      <td>569</td>\n",
       "      <td>2.267337e+06</td>\n",
       "      <td>129.310906</td>\n",
       "      <td>30.815466</td>\n",
       "      <td>14</td>\n",
       "      <td>40.642857</td>\n",
       "      <td>1252.428571</td>\n",
       "      <td>0.798449</td>\n",
       "      <td>162621</td>\n",
       "      <td>15.091918</td>\n",
       "      <td>227.765993</td>\n",
       "      <td>98.426783</td>\n",
       "      <td>-30.884122</td>\n",
       "    </tr>\n",
       "    <tr>\n",
       "      <th>90</th>\n",
       "      <td>19179</td>\n",
       "      <td>IA</td>\n",
       "      <td>35625</td>\n",
       "      <td>Wapello</td>\n",
       "      <td>432</td>\n",
       "      <td>3.354544e+06</td>\n",
       "      <td>94.162628</td>\n",
       "      <td>82.465278</td>\n",
       "      <td>14</td>\n",
       "      <td>30.857143</td>\n",
       "      <td>2544.642857</td>\n",
       "      <td>0.392982</td>\n",
       "      <td>261318</td>\n",
       "      <td>13.600935</td>\n",
       "      <td>184.985425</td>\n",
       "      <td>55.354062</td>\n",
       "      <td>-38.808566</td>\n",
       "    </tr>\n",
       "    <tr>\n",
       "      <th>36</th>\n",
       "      <td>19071</td>\n",
       "      <td>IA</td>\n",
       "      <td>7441</td>\n",
       "      <td>Fremont</td>\n",
       "      <td>511</td>\n",
       "      <td>3.284335e+04</td>\n",
       "      <td>4.413836</td>\n",
       "      <td>14.561644</td>\n",
       "      <td>2</td>\n",
       "      <td>255.500000</td>\n",
       "      <td>3720.500000</td>\n",
       "      <td>0.268781</td>\n",
       "      <td>3355</td>\n",
       "      <td>11.466993</td>\n",
       "      <td>131.491923</td>\n",
       "      <td>-35.866600</td>\n",
       "      <td>-40.280436</td>\n",
       "    </tr>\n",
       "    <tr>\n",
       "      <th>14</th>\n",
       "      <td>19027</td>\n",
       "      <td>IA</td>\n",
       "      <td>20816</td>\n",
       "      <td>Carroll</td>\n",
       "      <td>569</td>\n",
       "      <td>2.869241e+06</td>\n",
       "      <td>137.838237</td>\n",
       "      <td>36.583480</td>\n",
       "      <td>12</td>\n",
       "      <td>47.416667</td>\n",
       "      <td>1734.666667</td>\n",
       "      <td>0.576480</td>\n",
       "      <td>195754</td>\n",
       "      <td>14.912195</td>\n",
       "      <td>222.373552</td>\n",
       "      <td>96.087447</td>\n",
       "      <td>-41.750791</td>\n",
       "    </tr>\n",
       "    <tr>\n",
       "      <th>17</th>\n",
       "      <td>19033</td>\n",
       "      <td>IA</td>\n",
       "      <td>44151</td>\n",
       "      <td>Cerro Gordo</td>\n",
       "      <td>568</td>\n",
       "      <td>7.060793e+06</td>\n",
       "      <td>159.923729</td>\n",
       "      <td>77.730634</td>\n",
       "      <td>22</td>\n",
       "      <td>25.818182</td>\n",
       "      <td>2006.863636</td>\n",
       "      <td>0.498290</td>\n",
       "      <td>552209</td>\n",
       "      <td>14.974573</td>\n",
       "      <td>224.237826</td>\n",
       "      <td>112.528504</td>\n",
       "      <td>-47.395225</td>\n",
       "    </tr>\n",
       "    <tr>\n",
       "      <th>55</th>\n",
       "      <td>19109</td>\n",
       "      <td>IA</td>\n",
       "      <td>15543</td>\n",
       "      <td>Kossuth</td>\n",
       "      <td>973</td>\n",
       "      <td>2.156562e+06</td>\n",
       "      <td>138.748098</td>\n",
       "      <td>15.974306</td>\n",
       "      <td>7</td>\n",
       "      <td>139.000000</td>\n",
       "      <td>2220.428571</td>\n",
       "      <td>0.450364</td>\n",
       "      <td>152401</td>\n",
       "      <td>15.669003</td>\n",
       "      <td>245.517654</td>\n",
       "      <td>88.658549</td>\n",
       "      <td>-50.089549</td>\n",
       "    </tr>\n",
       "    <tr>\n",
       "      <th>82</th>\n",
       "      <td>19163</td>\n",
       "      <td>IA</td>\n",
       "      <td>165224</td>\n",
       "      <td>Scott</td>\n",
       "      <td>458</td>\n",
       "      <td>2.511723e+07</td>\n",
       "      <td>152.019283</td>\n",
       "      <td>360.751092</td>\n",
       "      <td>68</td>\n",
       "      <td>6.735294</td>\n",
       "      <td>2429.764706</td>\n",
       "      <td>0.411562</td>\n",
       "      <td>2054221</td>\n",
       "      <td>14.442643</td>\n",
       "      <td>208.589943</td>\n",
       "      <td>68.193723</td>\n",
       "      <td>-83.825560</td>\n",
       "    </tr>\n",
       "    <tr>\n",
       "      <th>26</th>\n",
       "      <td>19051</td>\n",
       "      <td>IA</td>\n",
       "      <td>8753</td>\n",
       "      <td>Davis</td>\n",
       "      <td>503</td>\n",
       "      <td>1.170033e+05</td>\n",
       "      <td>13.367220</td>\n",
       "      <td>17.401590</td>\n",
       "      <td>1</td>\n",
       "      <td>503.000000</td>\n",
       "      <td>8753.000000</td>\n",
       "      <td>0.114247</td>\n",
       "      <td>9429</td>\n",
       "      <td>13.634287</td>\n",
       "      <td>185.893787</td>\n",
       "      <td>-70.951211</td>\n",
       "      <td>-84.318431</td>\n",
       "    </tr>\n",
       "    <tr>\n",
       "      <th>30</th>\n",
       "      <td>19059</td>\n",
       "      <td>IA</td>\n",
       "      <td>16667</td>\n",
       "      <td>Dickinson</td>\n",
       "      <td>381</td>\n",
       "      <td>4.624344e+06</td>\n",
       "      <td>277.455080</td>\n",
       "      <td>43.745407</td>\n",
       "      <td>15</td>\n",
       "      <td>25.400000</td>\n",
       "      <td>1111.133333</td>\n",
       "      <td>0.899982</td>\n",
       "      <td>327118</td>\n",
       "      <td>15.559336</td>\n",
       "      <td>242.092946</td>\n",
       "      <td>123.631571</td>\n",
       "      <td>-153.823509</td>\n",
       "    </tr>\n",
       "  </tbody>\n",
       "</table>\n",
       "<p>99 rows × 17 columns</p>\n",
       "</div>"
      ],
      "text/plain": [
       "     FIPS State  CENSUS_2010_POP       County  Sq_miles  Total Liquor Sales  \\\n",
       "77  19153    IA           430640         Polk       570        7.854702e+07   \n",
       "22  19043    IA            18129      Clayton       779        8.525852e+05   \n",
       "81  19161    IA            10350          Sac       576        6.709874e+05   \n",
       "65  19129    IA            15059        Mills       437        5.495891e+05   \n",
       "93  19185    IA             6403        Wayne       526        1.352292e+05   \n",
       "89  19177    IA             7570    Van Buren       485        2.199142e+05   \n",
       "62  19123    IA            22381      Mahaska       571        1.177849e+06   \n",
       "84  19167    IA            33704        Sioux       768        1.834621e+06   \n",
       "66  19131    IA            10776     Mitchell       469        5.445430e+05   \n",
       "51  19101    IA            16843    Jefferson       435        1.071614e+06   \n",
       "6   19011    IA            26076       Benton       716        9.047765e+05   \n",
       "35  19069    IA            10680     Franklin       582        6.102512e+05   \n",
       "98  19195    IA             7598        Worth       400        3.291893e+05   \n",
       "74  19147    IA             9421    Palo Alto       564        7.559786e+05   \n",
       "27  19053    IA             8457      Decatur       532        2.192651e+05   \n",
       "19  19037    IA            12439    Chickasaw       505        4.604198e+05   \n",
       "39  19077    IA            10954      Guthrie       591        3.564276e+05   \n",
       "50  19099    IA            36842       Jasper       730        2.058520e+06   \n",
       "96  19191    IA            21056   Winneshiek       690        1.578802e+06   \n",
       "12  19023    IA            14867       Butler       580        3.606397e+05   \n",
       "97  19193    IA           102172     Woodbury       873        1.250641e+07   \n",
       "92  19183    IA            21704   Washington       569        1.813265e+06   \n",
       "61  19121    IA            15679      Madison       561        9.379085e+05   \n",
       "69  19137    IA            10740   Montgomery       424        7.718278e+05   \n",
       "99  19197    IA            13229       Wright       581        8.752810e+05   \n",
       "68  19135    IA             7970       Monroe       433        3.731310e+05   \n",
       "43  19085    IA            14928     Harrison       697        6.091271e+05   \n",
       "38  19075    IA            12453       Grundy       503        3.918330e+05   \n",
       "80  19159    IA             5131     Ringgold       538        1.731132e+05   \n",
       "87  19173    IA             6317       Taylor       534        1.423536e+05   \n",
       "..    ...   ...              ...          ...       ...                 ...   \n",
       "40  19079    IA            15673     Hamilton       577        1.029072e+06   \n",
       "47  19093    IA             7089          Ida       432        6.845848e+05   \n",
       "49  19097    IA            19848      Jackson       636        1.507479e+06   \n",
       "67  19133    IA             9243       Monona       693        6.515155e+05   \n",
       "48  19095    IA            16355         Iowa       586        1.306083e+06   \n",
       "15  19029    IA            13956         Cass       564        1.423170e+06   \n",
       "23  19045    IA            49116      Clinton       695        4.178292e+06   \n",
       "70  19139    IA            42745    Muscatine       439        3.718515e+06   \n",
       "46  19091    IA             9815     Humboldt       434        7.919440e+05   \n",
       "83  19165    IA            12167       Shelby       591        1.003977e+06   \n",
       "34  19067    IA            16303        Floyd       501        1.535583e+06   \n",
       "24  19047    IA            17096     Crawford       714        1.546616e+06   \n",
       "52  19103    IA           130882      Johnson       614        2.163711e+07   \n",
       "85  19169    IA            89542        Story       573        1.059031e+07   \n",
       "45  19089    IA             9566       Howard       473        8.466667e+05   \n",
       "71  19141    IA            14398       OBrien       573        1.532898e+06   \n",
       "21  19041    IA            16667         Clay       569        1.904334e+06   \n",
       "29  19057    IA            40325   Des Moines       416        4.713904e+06   \n",
       "7   19013    IA           131090   Black Hawk       567        1.991899e+07   \n",
       "56  19111    IA            35862          Lee       517        4.689268e+06   \n",
       "2   19003    IA             4029        Adams       424        1.224313e+05   \n",
       "42  19083    IA            17534       Hardin       569        2.267337e+06   \n",
       "90  19179    IA            35625      Wapello       432        3.354544e+06   \n",
       "36  19071    IA             7441      Fremont       511        3.284335e+04   \n",
       "14  19027    IA            20816      Carroll       569        2.869241e+06   \n",
       "17  19033    IA            44151  Cerro Gordo       568        7.060793e+06   \n",
       "55  19109    IA            15543      Kossuth       973        2.156562e+06   \n",
       "82  19163    IA           165224        Scott       458        2.511723e+07   \n",
       "26  19051    IA             8753        Davis       503        1.170033e+05   \n",
       "30  19059    IA            16667    Dickinson       381        4.624344e+06   \n",
       "\n",
       "    Liquor Sales Per Capita  Population Density  Total Liquor Stores  \\\n",
       "77               182.396024          755.508772                  208   \n",
       "22                47.028802           23.272144                   12   \n",
       "81                64.829704           17.968750                    7   \n",
       "65                36.495723           34.459954                    6   \n",
       "93                21.119669           12.173004                    3   \n",
       "89                29.050753           15.608247                    3   \n",
       "62                52.627203           39.196147                    6   \n",
       "84                54.433330           43.885417                    9   \n",
       "66                50.532941           22.976546                    5   \n",
       "51                63.623688           38.719540                    4   \n",
       "6                 34.697673           36.418994                    6   \n",
       "35                57.139622           18.350515                    6   \n",
       "98                43.325783           18.995000                    3   \n",
       "74                80.243983           16.703901                    8   \n",
       "27                25.927059           15.896617                    5   \n",
       "19                37.014210           24.631683                    5   \n",
       "39                32.538583           18.534687                    5   \n",
       "50                55.874268           50.468493                   16   \n",
       "96                74.981085           30.515942                    5   \n",
       "12                24.257730           25.632759                    7   \n",
       "97               122.405457          117.035510                   39   \n",
       "92                83.545207           38.144112                    7   \n",
       "61                59.819405           27.948307                    8   \n",
       "69                71.864790           25.330189                    5   \n",
       "99                66.163805           22.769363                   10   \n",
       "68                46.816940           18.406467                    3   \n",
       "43                40.804333           21.417504                    7   \n",
       "38                31.464944           24.757455                    8   \n",
       "80                33.738683            9.537175                    3   \n",
       "87                22.535002           11.829588                    3   \n",
       "..                      ...                 ...                  ...   \n",
       "40                65.658877           27.162912                    8   \n",
       "47                96.570010           16.409722                    4   \n",
       "49                75.951192           31.207547                    8   \n",
       "67                70.487453           13.337662                    4   \n",
       "48                79.858349           27.909556                    8   \n",
       "15               101.975473           24.744681                   10   \n",
       "23                85.069868           70.670504                   18   \n",
       "70                86.992985           97.369021                   20   \n",
       "46                80.687112           22.615207                    4   \n",
       "83                82.516362           20.587140                    4   \n",
       "34                94.190193           32.540918                    7   \n",
       "24                90.466561           23.943978                    6   \n",
       "52               165.317713          213.162866                   55   \n",
       "85               118.271934          156.268761                   38   \n",
       "45                88.507916           20.224101                    3   \n",
       "71               106.466018           25.127400                   10   \n",
       "21               114.257739           29.291740                    8   \n",
       "29               116.897800           96.935096                   21   \n",
       "7                151.948962          231.199295                   73   \n",
       "56               130.758687           69.365571                   17   \n",
       "2                 30.387513            9.502358                    1   \n",
       "42               129.310906           30.815466                   14   \n",
       "90                94.162628           82.465278                   14   \n",
       "36                 4.413836           14.561644                    2   \n",
       "14               137.838237           36.583480                   12   \n",
       "17               159.923729           77.730634                   22   \n",
       "55               138.748098           15.974306                    7   \n",
       "82               152.019283          360.751092                   68   \n",
       "26                13.367220           17.401590                    1   \n",
       "30               277.455080           43.745407                   15   \n",
       "\n",
       "    Liquor Store Density  Liquor Stores Per Capita  TPC * 1000  \\\n",
       "77              2.740385               2070.384615    0.483002   \n",
       "22             64.916667               1510.750000    0.661923   \n",
       "81             82.285714               1478.571429    0.676329   \n",
       "65             72.833333               2509.833333    0.398433   \n",
       "93            175.333333               2134.333333    0.468530   \n",
       "89            161.666667               2523.333333    0.396301   \n",
       "62             95.166667               3730.166667    0.268085   \n",
       "84             85.333333               3744.888889    0.267031   \n",
       "66             93.800000               2155.200000    0.463994   \n",
       "51            108.750000               4210.750000    0.237487   \n",
       "6             119.333333               4346.000000    0.230097   \n",
       "35             97.000000               1780.000000    0.561798   \n",
       "98            133.333333               2532.666667    0.394841   \n",
       "74             70.500000               1177.625000    0.849167   \n",
       "27            106.400000               1691.400000    0.591226   \n",
       "19            101.000000               2487.800000    0.401962   \n",
       "39            118.200000               2190.800000    0.456454   \n",
       "50             45.625000               2302.625000    0.434287   \n",
       "96            138.000000               4211.200000    0.237462   \n",
       "12             82.857143               2123.857143    0.470841   \n",
       "97             22.384615               2619.794872    0.381709   \n",
       "92             81.285714               3100.571429    0.322521   \n",
       "61             70.125000               1959.875000    0.510237   \n",
       "69             84.800000               2148.000000    0.465549   \n",
       "99             58.100000               1322.900000    0.755915   \n",
       "68            144.333333               2656.666667    0.376412   \n",
       "43             99.571429               2132.571429    0.468917   \n",
       "38             62.875000               1556.625000    0.642415   \n",
       "80            179.333333               1710.333333    0.584681   \n",
       "87            178.000000               2105.666667    0.474909   \n",
       "..                   ...                       ...         ...   \n",
       "40             72.125000               1959.125000    0.510432   \n",
       "47            108.000000               1772.250000    0.564254   \n",
       "49             79.500000               2481.000000    0.403063   \n",
       "67            173.250000               2310.750000    0.432760   \n",
       "48             73.250000               2044.375000    0.489147   \n",
       "15             56.400000               1395.600000    0.716538   \n",
       "23             38.611111               2728.666667    0.366479   \n",
       "70             21.950000               2137.250000    0.467891   \n",
       "46            108.500000               2453.750000    0.407539   \n",
       "83            147.750000               3041.750000    0.328758   \n",
       "34             71.571429               2329.000000    0.429369   \n",
       "24            119.000000               2849.333333    0.350959   \n",
       "52             11.163636               2379.672727    0.420226   \n",
       "85             15.078947               2356.368421    0.424382   \n",
       "45            157.666667               3188.666667    0.313611   \n",
       "71             57.300000               1439.800000    0.694541   \n",
       "21             71.125000               2083.375000    0.479990   \n",
       "29             19.809524               1920.238095    0.520769   \n",
       "7               7.767123               1795.753425    0.556869   \n",
       "56             30.411765               2109.529412    0.474039   \n",
       "2             424.000000               4029.000000    0.248201   \n",
       "42             40.642857               1252.428571    0.798449   \n",
       "90             30.857143               2544.642857    0.392982   \n",
       "36            255.500000               3720.500000    0.268781   \n",
       "14             47.416667               1734.666667    0.576480   \n",
       "17             25.818182               2006.863636    0.498290   \n",
       "55            139.000000               2220.428571    0.450364   \n",
       "82              6.735294               2429.764706    0.411562   \n",
       "26            503.000000               8753.000000    0.114247   \n",
       "30             25.400000               1111.133333    0.899982   \n",
       "\n",
       "    Total Bottles Sold  Average Bottle Price  Average Bottle Price^2  \\\n",
       "77             5823190             15.339971              235.314723   \n",
       "22               61565             15.494100              240.067125   \n",
       "81               50493             15.732678              247.517143   \n",
       "65               47747             14.516095              210.717018   \n",
       "93               10755             14.643492              214.431846   \n",
       "89               16229             14.763702              217.966892   \n",
       "62               96208             15.077302              227.325030   \n",
       "84              123365             14.881450              221.457542   \n",
       "66               42523             14.698779              216.054110   \n",
       "51               81746             15.384084              236.670051   \n",
       "6                70228             13.788517              190.123201   \n",
       "35               48510             14.910976              222.337209   \n",
       "98               26480             14.502084              210.310452   \n",
       "74               54930             15.629041              244.266910   \n",
       "27               18002             13.438290              180.587641   \n",
       "19               34750             13.876113              192.546508   \n",
       "39               30300             13.882814              192.732517   \n",
       "50              171159             13.916554              193.670484   \n",
       "96              114224             15.288626              233.742073   \n",
       "12               31640             12.719335              161.781477   \n",
       "97              950205             14.974070              224.222758   \n",
       "92              131416             15.295749              233.959944   \n",
       "61               74382             14.361410              206.250096   \n",
       "69               60614             15.056697              226.704132   \n",
       "99               69653             14.359717              206.201463   \n",
       "68               28075             14.442635              208.589716   \n",
       "43               51688             13.583937              184.523349   \n",
       "38               33890             12.729771              162.047072   \n",
       "80               12769             14.123351              199.469050   \n",
       "87               12147             13.618009              185.450162   \n",
       "..                 ...                   ...                     ...   \n",
       "40               84037             13.427951              180.309871   \n",
       "47               48663             15.539189              241.466402   \n",
       "49              117820             13.727771              188.451691   \n",
       "67               52877             14.435406              208.380941   \n",
       "48               97812             13.854845              191.956727   \n",
       "15              102295             14.867513              221.042949   \n",
       "23              344712             13.588960              184.659836   \n",
       "70              287563             14.048372              197.356746   \n",
       "46               60169             14.199279              201.619523   \n",
       "83               74392             14.348133              205.868922   \n",
       "34              118610             14.424217              208.058023   \n",
       "24              108825             14.760848              217.882633   \n",
       "52             1535222             15.664164              245.366038   \n",
       "85              770265             15.301055              234.122284   \n",
       "45               58234             14.819682              219.622980   \n",
       "71              115457             14.277901              203.858471   \n",
       "21              144791             14.771974              218.211212   \n",
       "29              380273             14.337266              205.557189   \n",
       "7              1739236             14.129901              199.654113   \n",
       "56              344407             14.920697              222.627185   \n",
       "2                10173             15.302268              234.159402   \n",
       "42              162621             15.091918              227.765993   \n",
       "90              261318             13.600935              184.985425   \n",
       "36                3355             11.466993              131.491923   \n",
       "14              195754             14.912195              222.373552   \n",
       "17              552209             14.974573              224.237826   \n",
       "55              152401             15.669003              245.517654   \n",
       "82             2054221             14.442643              208.589943   \n",
       "26                9429             13.634287              185.893787   \n",
       "30              327118             15.559336              242.092946   \n",
       "\n",
       "         y_hat      errors  \n",
       "77  325.236497  142.840472  \n",
       "22  102.630426   55.601624  \n",
       "81  107.121940   42.292236  \n",
       "65   75.371804   38.876081  \n",
       "93   59.707724   38.588055  \n",
       "89   66.400876   37.350123  \n",
       "62   86.524000   33.896797  \n",
       "84   88.180975   33.747645  \n",
       "66   77.521946   26.989005  \n",
       "51   89.548692   25.925004  \n",
       "6    59.705329   25.007656  \n",
       "35   82.042517   24.902896  \n",
       "98   67.565825   24.240042  \n",
       "74  103.901565   23.657582  \n",
       "27   49.220608   23.293549  \n",
       "19   59.907858   22.893648  \n",
       "39   53.906902   21.368319  \n",
       "50   75.491964   19.617695  \n",
       "96   93.565120   18.584035  \n",
       "12   42.812986   18.555257  \n",
       "97  139.904611   17.499154  \n",
       "92  100.271293   16.726086  \n",
       "61   76.120443   16.301038  \n",
       "69   87.715309   15.850520  \n",
       "99   81.849727   15.685922  \n",
       "68   62.188173   15.371233  \n",
       "43   55.668733   14.864399  \n",
       "38   46.146056   14.681112  \n",
       "80   48.048715   14.310033  \n",
       "87   36.830048   14.295046  \n",
       "..         ...         ...  \n",
       "40   58.656953   -7.001924  \n",
       "47   87.092019   -9.477991  \n",
       "49   66.174243   -9.776949  \n",
       "67   58.831740  -11.655714  \n",
       "48   68.153288  -11.705060  \n",
       "15   89.421627  -12.553846  \n",
       "23   72.232301  -12.837567  \n",
       "70   74.075028  -12.917957  \n",
       "46   65.313623  -15.373489  \n",
       "83   66.998650  -15.517712  \n",
       "34   78.491460  -15.698733  \n",
       "24   72.583473  -17.883088  \n",
       "52  145.685146  -19.632566  \n",
       "85   96.672688  -21.599246  \n",
       "45   65.897406  -22.610510  \n",
       "71   80.552097  -25.913920  \n",
       "21   88.017647  -26.240092  \n",
       "29   89.476520  -27.421280  \n",
       "7   122.649457  -29.299505  \n",
       "56  100.748503  -30.010185  \n",
       "2    -0.002019  -30.389532  \n",
       "42   98.426783  -30.884122  \n",
       "90   55.354062  -38.808566  \n",
       "36  -35.866600  -40.280436  \n",
       "14   96.087447  -41.750791  \n",
       "17  112.528504  -47.395225  \n",
       "55   88.658549  -50.089549  \n",
       "82   68.193723  -83.825560  \n",
       "26  -70.951211  -84.318431  \n",
       "30  123.631571 -153.823509  \n",
       "\n",
       "[99 rows x 17 columns]"
      ]
     },
     "execution_count": 541,
     "metadata": {},
     "output_type": "execute_result"
    }
   ],
   "source": [
    "df2.sort_values('errors', ascending =False)"
   ]
  },
  {
   "cell_type": "code",
   "execution_count": 543,
   "metadata": {
    "collapsed": true
   },
   "outputs": [],
   "source": [
    "# Model II"
   ]
  },
  {
   "cell_type": "code",
   "execution_count": 566,
   "metadata": {},
   "outputs": [
    {
     "data": {
      "text/plain": [
       "LinearRegression(copy_X=True, fit_intercept=True, n_jobs=1, normalize=False)"
      ]
     },
     "execution_count": 566,
     "metadata": {},
     "output_type": "execute_result"
    }
   ],
   "source": [
    "lm2 = linear_model.LinearRegression()\n",
    "\n",
    "X2 = df2[['Population Density', 'Liquor Stores Per Capita', 'Liquor Store Density', \n",
    "         'Total Bottles Sold', 'Average Bottle Price', 'Liquor Sales Per Capita']]\n",
    "y2 = df2['Total Liquor Sales'] \n",
    "\n",
    "lm2.fit(X2, y2)"
   ]
  },
  {
   "cell_type": "code",
   "execution_count": 567,
   "metadata": {
    "collapsed": true
   },
   "outputs": [],
   "source": [
    "predictions2 = lm2.predict(X2)"
   ]
  },
  {
   "cell_type": "code",
   "execution_count": 568,
   "metadata": {},
   "outputs": [
    {
     "data": {
      "text/plain": [
       "215657962044.49933"
      ]
     },
     "execution_count": 568,
     "metadata": {},
     "output_type": "execute_result"
    }
   ],
   "source": [
    "mean_squared_error(predictions2, y2)"
   ]
  },
  {
   "cell_type": "code",
   "execution_count": 569,
   "metadata": {},
   "outputs": [
    {
     "data": {
      "text/plain": [
       "468405.60744991223"
      ]
     },
     "execution_count": 569,
     "metadata": {},
     "output_type": "execute_result"
    }
   ],
   "source": [
    "np.sqrt(219403813090.5213)"
   ]
  },
  {
   "cell_type": "code",
   "execution_count": 570,
   "metadata": {},
   "outputs": [
    {
     "data": {
      "text/plain": [
       "3533888.0433337283"
      ]
     },
     "execution_count": 570,
     "metadata": {},
     "output_type": "execute_result"
    }
   ],
   "source": [
    "(np.sum(tcs_list) - 349854916.2888579) / 99"
   ]
  },
  {
   "cell_type": "code",
   "execution_count": 571,
   "metadata": {
    "collapsed": true
   },
   "outputs": [],
   "source": [
    "X_train2, X_test2, y_train2, y_test2 = train_test_split(X2, y2, test_size=0.5)"
   ]
  },
  {
   "cell_type": "code",
   "execution_count": 572,
   "metadata": {},
   "outputs": [
    {
     "data": {
      "text/plain": [
       "LinearRegression(copy_X=True, fit_intercept=True, n_jobs=1, normalize=False)"
      ]
     },
     "execution_count": 572,
     "metadata": {},
     "output_type": "execute_result"
    }
   ],
   "source": [
    "lm2.fit(X_train2, y_train2)"
   ]
  },
  {
   "cell_type": "code",
   "execution_count": 573,
   "metadata": {},
   "outputs": [
    {
     "name": "stdout",
     "output_type": "stream",
     "text": [
      "0.999798635577\n"
     ]
    }
   ],
   "source": [
    "print(lm2.score(X_train2, y_train2))"
   ]
  },
  {
   "cell_type": "code",
   "execution_count": 574,
   "metadata": {},
   "outputs": [
    {
     "name": "stdout",
     "output_type": "stream",
     "text": [
      "0.985781300168\n"
     ]
    }
   ],
   "source": [
    "print(lm2.score(X_test2, y_test2))"
   ]
  },
  {
   "cell_type": "code",
   "execution_count": 575,
   "metadata": {},
   "outputs": [
    {
     "data": {
      "text/plain": [
       "array([ 0.97086119,  0.99660463,  0.99580387])"
      ]
     },
     "execution_count": 575,
     "metadata": {},
     "output_type": "execute_result"
    }
   ],
   "source": [
    "scores2 = cross_val_score(lm2, X2, y2, cv=3)\n",
    "scores2"
   ]
  },
  {
   "cell_type": "code",
   "execution_count": 576,
   "metadata": {},
   "outputs": [
    {
     "name": "stdout",
     "output_type": "stream",
     "text": [
      "0.992421141912\n"
     ]
    }
   ],
   "source": [
    "predictions2 = cross_val_predict(lm2, X2, y2, cv=5)\n",
    "r22 = metrics.r2_score(y2, predictions2)\n",
    "print(r22)"
   ]
  },
  {
   "cell_type": "code",
   "execution_count": 577,
   "metadata": {},
   "outputs": [
    {
     "data": {
      "text/plain": [
       "[<matplotlib.lines.Line2D at 0x1a20f364e0>]"
      ]
     },
     "execution_count": 577,
     "metadata": {},
     "output_type": "execute_result"
    },
    {
     "data": {
      "image/png": "[encoded data removed]",
      "text/plain": [
       "<matplotlib.figure.Figure at 0x1a212222b0>"
      ]
     },
     "metadata": {
      "image/png": {
       "height": 489,
       "width": 483
      }
     },
     "output_type": "display_data"
    }
   ],
   "source": [
    "plt.figure(figsize=(8,8))\n",
    "plt.scatter(predictions2, y2, s=30, c='r', marker='+', zorder=10)\n",
    "plt.xlabel(\"Predicted Values $\\hat{y}$\")\n",
    "plt.ylabel(\"Actual Values\")\n",
    "\n",
    "plt.plot([0, np.max(y2)], [0, np.max(y2)])"
   ]
  },
  {
   "cell_type": "code",
   "execution_count": null,
   "metadata": {
    "collapsed": true
   },
   "outputs": [],
   "source": []
  },
  {
   "cell_type": "code",
   "execution_count": 578,
   "metadata": {
    "collapsed": true
   },
   "outputs": [],
   "source": [
    "df2['y_hat2'] = predictions2"
   ]
  },
  {
   "cell_type": "code",
   "execution_count": 579,
   "metadata": {
    "collapsed": true
   },
   "outputs": [],
   "source": [
    "df2['errors2'] = df2['y_hat2'] - df2['Total Liquor Sales'] "
   ]
  },
  {
   "cell_type": "code",
   "execution_count": 580,
   "metadata": {},
   "outputs": [
    {
     "data": {
      "text/plain": [
       "3274630.4384093583"
      ]
     },
     "execution_count": 580,
     "metadata": {},
     "output_type": "execute_result"
    }
   ],
   "source": [
    "df2['errors2'].max()"
   ]
  },
  {
   "cell_type": "code",
   "execution_count": null,
   "metadata": {
    "collapsed": true
   },
   "outputs": [],
   "source": []
  },
  {
   "cell_type": "markdown",
   "metadata": {},
   "source": [
    "# Visuals"
   ]
  },
  {
   "cell_type": "code",
   "execution_count": 583,
   "metadata": {
    "collapsed": true
   },
   "outputs": [],
   "source": [
    "bins = [0, 100, 200, 300, 400, 800]\n",
    "df2['density_bins'] = pd.cut(df2['Population Density'], bins)"
   ]
  },
  {
   "cell_type": "code",
   "execution_count": 584,
   "metadata": {},
   "outputs": [
    {
     "data": {
      "text/plain": [
       "[<matplotlib.lines.Line2D at 0x1a212e0630>]"
      ]
     },
     "execution_count": 584,
     "metadata": {},
     "output_type": "execute_result"
    },
    {
     "data": {
      "image/png": "[encoded data removed]",
      "text/plain": [
       "<matplotlib.figure.Figure at 0x1a21338898>"
      ]
     },
     "metadata": {
      "image/png": {
       "height": 268,
       "width": 260
      }
     },
     "output_type": "display_data"
    }
   ],
   "source": [
    "plt.figure(figsize=(4,4))\n",
    "plt.scatter(df2['Total Liquor Stores'], df2['Total Liquor Sales'], s=30, c='r', marker='+', zorder=10)\n",
    "plt.xlabel(\" \")\n",
    "plt.ylabel(\" \")\n",
    "\n",
    "plt.plot([0, np.max(y)], [0, np.max(y)])"
   ]
  },
  {
   "cell_type": "code",
   "execution_count": 585,
   "metadata": {
    "scrolled": false
   },
   "outputs": [
    {
     "data": {
      "image/png": "[encoded data removed]",
      "text/plain": [
       "<matplotlib.figure.Figure at 0x1a153a9a20>"
      ]
     },
     "metadata": {
      "image/png": {
       "height": 279,
       "width": 382
      }
     },
     "output_type": "display_data"
    }
   ],
   "source": [
    "\n",
    "ax = sns.barplot(x=df2['density_bins'], y=df2['Liquor Sales Per Capita'])\n",
    "ax.set(xlabel='Population density', ylabel='Liquor Sales Per Capita')\n",
    "labels = ax.get_xticklabels()\n",
    "ax.set_xticklabels(labels, rotation=30)\n",
    "\n",
    "plt.show()"
   ]
  },
  {
   "cell_type": "code",
   "execution_count": 586,
   "metadata": {},
   "outputs": [
    {
     "data": {
      "image/png": "[encoded data removed]",
      "text/plain": [
       "<matplotlib.figure.Figure at 0x1a21637d30>"
      ]
     },
     "metadata": {
      "image/png": {
       "height": 290,
       "width": 371
      }
     },
     "output_type": "display_data"
    }
   ],
   "source": [
    "ax = sns.barplot(x=df2['density_bins'], y=df2['Total Liquor Sales'])\n",
    "ax.set(xlabel='Population density', ylabel='Total Liquor Sales')\n",
    "labels = ax.get_xticklabels()\n",
    "ax.set_xticklabels(labels, rotation=30)\n",
    "\n",
    "plt.show()\n"
   ]
  },
  {
   "cell_type": "code",
   "execution_count": 588,
   "metadata": {
    "collapsed": true
   },
   "outputs": [],
   "source": [
    "df2.to_csv('/Users/christophermarker/Documents/DSI7/Miscellaneous/newcsv.csv')"
   ]
  },
  {
   "cell_type": "code",
   "execution_count": 589,
   "metadata": {
    "scrolled": true
   },
   "outputs": [
    {
     "data": {
      "text/plain": [
       "Index(['FIPS', 'State', 'CENSUS_2010_POP', 'County', 'Sq_miles',\n",
       "       'Total Liquor Sales', 'Liquor Sales Per Capita', 'Population Density',\n",
       "       'Total Liquor Stores', 'Liquor Store Density',\n",
       "       'Liquor Stores Per Capita', 'TPC * 1000', 'Total Bottles Sold',\n",
       "       'Average Bottle Price', 'Average Bottle Price^2', 'y_hat', 'errors',\n",
       "       'y_hat2', 'errors2', 'density_bins'],\n",
       "      dtype='object')"
      ]
     },
     "execution_count": 589,
     "metadata": {},
     "output_type": "execute_result"
    }
   ],
   "source": [
    "df2.columns"
   ]
  },
  {
   "cell_type": "code",
   "execution_count": 590,
   "metadata": {},
   "outputs": [
    {
     "data": {
      "text/plain": [
       "[<matplotlib.lines.Line2D at 0x1a154e03c8>]"
      ]
     },
     "execution_count": 590,
     "metadata": {},
     "output_type": "execute_result"
    },
    {
     "data": {
      "image/png": "[encoded data removed]",
      "text/plain": [
       "<matplotlib.figure.Figure at 0x1a154cd9b0>"
      ]
     },
     "metadata": {
      "image/png": {
       "height": 431,
       "width": 878
      }
     },
     "output_type": "display_data"
    }
   ],
   "source": [
    "n = df2['Total Bottles Sold']\n",
    "test_accuracy2 = df2['Total Liquor Sales']\n",
    "\n",
    "fig = plt.figure(figsize=(15,7))\n",
    "ax = plt.gca()\n",
    "ax.set(xlabel='Total Bottles Sold', ylabel='Total Liquor Sales')\n",
    "ax.scatter(n, test_accuracy2, c='k')\n",
    "plt.plot(np.unique(n), np.poly1d(np.polyfit(n, test_accuracy2, 1))(np.unique(n)))"
   ]
  },
  {
   "cell_type": "code",
   "execution_count": null,
   "metadata": {
    "collapsed": true
   },
   "outputs": [],
   "source": []
  },
  {
   "cell_type": "code",
   "execution_count": null,
   "metadata": {
    "collapsed": true
   },
   "outputs": [],
   "source": []
  },
  {
   "cell_type": "code",
   "execution_count": null,
   "metadata": {
    "collapsed": true
   },
   "outputs": [],
   "source": []
  },
  {
   "cell_type": "code",
   "execution_count": null,
   "metadata": {
    "collapsed": true
   },
   "outputs": [],
   "source": []
  },
  {
   "cell_type": "code",
   "execution_count": null,
   "metadata": {
    "collapsed": true
   },
   "outputs": [],
   "source": []
  },
  {
   "cell_type": "code",
   "execution_count": null,
   "metadata": {
    "collapsed": true
   },
   "outputs": [],
   "source": []
  },
  {
   "cell_type": "code",
   "execution_count": null,
   "metadata": {
    "collapsed": true
   },
   "outputs": [],
   "source": []
  },
  {
   "cell_type": "code",
   "execution_count": null,
   "metadata": {
    "collapsed": true
   },
   "outputs": [],
   "source": []
  },
  {
   "cell_type": "code",
   "execution_count": null,
   "metadata": {
    "collapsed": true
   },
   "outputs": [],
   "source": []
  },
  {
   "cell_type": "code",
   "execution_count": null,
   "metadata": {
    "collapsed": true
   },
   "outputs": [],
   "source": []
  }
 ],
 "metadata": {
  "kernelspec": {
   "display_name": "Python [default]",
   "language": "python",
   "name": "python3"
  },
  "language_info": {
   "codemirror_mode": {
    "name": "ipython",
    "version": 3
   },
   "file_extension": ".py",
   "mimetype": "text/x-python",
   "name": "python",
   "nbconvert_exporter": "python",
   "pygments_lexer": "ipython3",
   "version": "3.6.4"
  }
 },
 "nbformat": 4,
 "nbformat_minor": 2
}
